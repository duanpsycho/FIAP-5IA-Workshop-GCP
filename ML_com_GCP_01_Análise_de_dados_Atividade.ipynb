{
  "nbformat": 4,
  "nbformat_minor": 0,
  "metadata": {
    "colab": {
      "name": "ML com GCP - 01 - Análise de dados - Atividade",
      "provenance": [],
      "collapsed_sections": []
    },
    "kernelspec": {
      "name": "python3",
      "display_name": "Python 3"
    }
  },
  "cells": [
    {
      "cell_type": "markdown",
      "metadata": {
        "id": "ttxUdtrlm4m6",
        "colab_type": "text"
      },
      "source": [
        "# Autenticação\n",
        "Primeiro precisamos autenticar nossa sessão do Colab no Google e definimos o ID do projeto"
      ]
    },
    {
      "cell_type": "code",
      "metadata": {
        "id": "9wgK4E7UmlR8",
        "colab_type": "code",
        "outputId": "8f7bbaaa-1f58-48af-8189-67eb83008bb5",
        "colab": {
          "base_uri": "https://localhost:8080/",
          "height": 34
        }
      },
      "source": [
        "from google.colab import auth\n",
        "auth.authenticate_user()\n",
        "print('Authenticated')"
      ],
      "execution_count": 0,
      "outputs": [
        {
          "output_type": "stream",
          "text": [
            "Authenticated\n"
          ],
          "name": "stdout"
        }
      ]
    },
    {
      "cell_type": "code",
      "metadata": {
        "id": "aiHcymktlWxC",
        "colab_type": "code",
        "cellView": "both",
        "colab": {}
      },
      "source": [
        "#Informe o id do projeto nesta linha. Este é meu ID, você precisa colocar o teu:\n",
        "\n",
        "project_id = \"workshop-5ia-tensorflow-253922\" #@param {type:\"string\"}\n"
      ],
      "execution_count": 0,
      "outputs": []
    },
    {
      "cell_type": "markdown",
      "metadata": {
        "id": "D7SXXClkL-3S",
        "colab_type": "text"
      },
      "source": [
        "# Client Big Query\n",
        "\n",
        "Como vamos buscar dados no bigquery, é necessário criar um cliente BG"
      ]
    },
    {
      "cell_type": "code",
      "metadata": {
        "id": "_MooAayGL-OK",
        "colab_type": "code",
        "colab": {}
      },
      "source": [
        "# Call BigQuery and examine in dataframe\n",
        "from google.cloud import bigquery\n",
        "\n",
        "bgclient = bigquery.Client(project=project_id)"
      ],
      "execution_count": 0,
      "outputs": []
    },
    {
      "cell_type": "markdown",
      "metadata": {
        "id": "0Cd5TcsWr7Ok",
        "colab_type": "text"
      },
      "source": [
        "Demais imports:"
      ]
    },
    {
      "cell_type": "code",
      "metadata": {
        "id": "QcW9RAL6j3_v",
        "colab_type": "code",
        "colab": {}
      },
      "source": [
        "import matplotlib.pyplot as plt\n",
        "import seaborn as sns, numpy as np"
      ],
      "execution_count": 0,
      "outputs": []
    },
    {
      "cell_type": "markdown",
      "metadata": {
        "id": "CBtxvZtydI6R",
        "colab_type": "text"
      },
      "source": [
        "#Exploração\n",
        "\n"
      ]
    },
    {
      "cell_type": "markdown",
      "metadata": {
        "id": "FsLhfXcsFcLq",
        "colab_type": "text"
      },
      "source": [
        "Vamos avaliar quantas observações realmente temos, e quanta temos a partir de 2001"
      ]
    },
    {
      "cell_type": "code",
      "metadata": {
        "id": "51MXzbI-FziT",
        "colab_type": "code",
        "outputId": "4c9be148-9f0f-4129-a002-baca70ac33c9",
        "colab": {
          "base_uri": "https://localhost:8080/",
          "height": 80
        }
      },
      "source": [
        "query = \"\"\"\n",
        "SELECT\n",
        "  COUNT(1) as observacoes\n",
        "FROM\n",
        "  publicdata.samples.natality\n",
        "\"\"\"\n",
        "df = bgclient.query(query).to_dataframe()\n",
        "df"
      ],
      "execution_count": 0,
      "outputs": [
        {
          "output_type": "execute_result",
          "data": {
            "text/html": [
              "<div>\n",
              "<style scoped>\n",
              "    .dataframe tbody tr th:only-of-type {\n",
              "        vertical-align: middle;\n",
              "    }\n",
              "\n",
              "    .dataframe tbody tr th {\n",
              "        vertical-align: top;\n",
              "    }\n",
              "\n",
              "    .dataframe thead th {\n",
              "        text-align: right;\n",
              "    }\n",
              "</style>\n",
              "<table border=\"1\" class=\"dataframe\">\n",
              "  <thead>\n",
              "    <tr style=\"text-align: right;\">\n",
              "      <th></th>\n",
              "      <th>observacoes</th>\n",
              "    </tr>\n",
              "  </thead>\n",
              "  <tbody>\n",
              "    <tr>\n",
              "      <th>0</th>\n",
              "      <td>137826763</td>\n",
              "    </tr>\n",
              "  </tbody>\n",
              "</table>\n",
              "</div>"
            ],
            "text/plain": [
              "   observacoes\n",
              "0    137826763"
            ]
          },
          "metadata": {
            "tags": []
          },
          "execution_count": 10
        }
      ]
    },
    {
      "cell_type": "code",
      "metadata": {
        "id": "x3wA81IHF0Yo",
        "colab_type": "code",
        "outputId": "31724887-6678-49b2-9206-0f62f796e612",
        "colab": {
          "base_uri": "https://localhost:8080/",
          "height": 80
        }
      },
      "source": [
        "query = \"\"\"\n",
        "SELECT\n",
        "  COUNT(1) as observacoes\n",
        "FROM\n",
        "  publicdata.samples.natality\n",
        "WHERE year > 2000\n",
        "\"\"\"\n",
        "df = bgclient.query(query).to_dataframe()\n",
        "df"
      ],
      "execution_count": 0,
      "outputs": [
        {
          "output_type": "execute_result",
          "data": {
            "text/html": [
              "<div>\n",
              "<style scoped>\n",
              "    .dataframe tbody tr th:only-of-type {\n",
              "        vertical-align: middle;\n",
              "    }\n",
              "\n",
              "    .dataframe tbody tr th {\n",
              "        vertical-align: top;\n",
              "    }\n",
              "\n",
              "    .dataframe thead th {\n",
              "        text-align: right;\n",
              "    }\n",
              "</style>\n",
              "<table border=\"1\" class=\"dataframe\">\n",
              "  <thead>\n",
              "    <tr style=\"text-align: right;\">\n",
              "      <th></th>\n",
              "      <th>observacoes</th>\n",
              "    </tr>\n",
              "  </thead>\n",
              "  <tbody>\n",
              "    <tr>\n",
              "      <th>0</th>\n",
              "      <td>33271914</td>\n",
              "    </tr>\n",
              "  </tbody>\n",
              "</table>\n",
              "</div>"
            ],
            "text/plain": [
              "   observacoes\n",
              "0     33271914"
            ]
          },
          "metadata": {
            "tags": []
          },
          "execution_count": 8
        }
      ]
    },
    {
      "cell_type": "markdown",
      "metadata": {
        "id": "vsnNgQvMFa9d",
        "colab_type": "text"
      },
      "source": [
        "Então iniciamos a exploração detalhada. Vamos buscar apenas 1000 observações dos nascimentos a partir de 2001:"
      ]
    },
    {
      "cell_type": "code",
      "metadata": {
        "id": "b8Mjc6ElmqBx",
        "colab_type": "code",
        "colab": {}
      },
      "source": [
        "query = \"\"\"\n",
        "SELECT\n",
        "  weight_pounds,\n",
        "  weight_pounds * 0.45359237 AS weight_kilos,\n",
        "  is_male,\n",
        "  mother_age,\n",
        "  mother_married,\n",
        "  plurality,\n",
        "  gestation_weeks,\n",
        "  CONCAT(CAST(YEAR AS STRING), CAST(month AS STRING)) as year_and_month,\n",
        "  FARM_FINGERPRINT('DUAN') AS MeuHash,  \n",
        "  ABS(FARM_FINGERPRINT(CONCAT(CAST(YEAR AS STRING), CAST(month AS STRING)))) AS hashmonth,\n",
        "  RAND() AS meurand\n",
        "FROM\n",
        "  publicdata.samples.natality\n",
        "WHERE year > 2000\n",
        "LIMIT 1000\n",
        "\"\"\""
      ],
      "execution_count": 0,
      "outputs": []
    },
    {
      "cell_type": "code",
      "metadata": {
        "id": "zu-bFtGnnJDY",
        "colab_type": "code",
        "outputId": "9beccb82-5811-4acc-f8ed-b49a16396591",
        "colab": {
          "base_uri": "https://localhost:8080/",
          "height": 224
        }
      },
      "source": [
        "df = bgclient.query(query).to_dataframe()\n",
        "df.head()"
      ],
      "execution_count": 0,
      "outputs": [
        {
          "output_type": "execute_result",
          "data": {
            "text/html": [
              "<div>\n",
              "<style scoped>\n",
              "    .dataframe tbody tr th:only-of-type {\n",
              "        vertical-align: middle;\n",
              "    }\n",
              "\n",
              "    .dataframe tbody tr th {\n",
              "        vertical-align: top;\n",
              "    }\n",
              "\n",
              "    .dataframe thead th {\n",
              "        text-align: right;\n",
              "    }\n",
              "</style>\n",
              "<table border=\"1\" class=\"dataframe\">\n",
              "  <thead>\n",
              "    <tr style=\"text-align: right;\">\n",
              "      <th></th>\n",
              "      <th>weight_pounds</th>\n",
              "      <th>weight_kilos</th>\n",
              "      <th>is_male</th>\n",
              "      <th>mother_age</th>\n",
              "      <th>mother_married</th>\n",
              "      <th>plurality</th>\n",
              "      <th>gestation_weeks</th>\n",
              "      <th>year_and_month</th>\n",
              "      <th>MeuHash</th>\n",
              "      <th>hashmonth</th>\n",
              "      <th>meurand</th>\n",
              "    </tr>\n",
              "  </thead>\n",
              "  <tbody>\n",
              "    <tr>\n",
              "      <th>0</th>\n",
              "      <td>7.063611</td>\n",
              "      <td>3.204</td>\n",
              "      <td>True</td>\n",
              "      <td>32</td>\n",
              "      <td>True</td>\n",
              "      <td>1</td>\n",
              "      <td>37.0</td>\n",
              "      <td>200112</td>\n",
              "      <td>-8852426674457033647</td>\n",
              "      <td>7108882242435606404</td>\n",
              "      <td>0.920699</td>\n",
              "    </tr>\n",
              "    <tr>\n",
              "      <th>1</th>\n",
              "      <td>4.687028</td>\n",
              "      <td>2.126</td>\n",
              "      <td>True</td>\n",
              "      <td>30</td>\n",
              "      <td>True</td>\n",
              "      <td>3</td>\n",
              "      <td>33.0</td>\n",
              "      <td>20016</td>\n",
              "      <td>-8852426674457033647</td>\n",
              "      <td>7170969733900686954</td>\n",
              "      <td>0.483441</td>\n",
              "    </tr>\n",
              "    <tr>\n",
              "      <th>2</th>\n",
              "      <td>7.561856</td>\n",
              "      <td>3.430</td>\n",
              "      <td>True</td>\n",
              "      <td>20</td>\n",
              "      <td>False</td>\n",
              "      <td>1</td>\n",
              "      <td>39.0</td>\n",
              "      <td>20014</td>\n",
              "      <td>-8852426674457033647</td>\n",
              "      <td>6392072535155213407</td>\n",
              "      <td>0.221445</td>\n",
              "    </tr>\n",
              "    <tr>\n",
              "      <th>3</th>\n",
              "      <td>7.561856</td>\n",
              "      <td>3.430</td>\n",
              "      <td>True</td>\n",
              "      <td>31</td>\n",
              "      <td>True</td>\n",
              "      <td>1</td>\n",
              "      <td>37.0</td>\n",
              "      <td>200110</td>\n",
              "      <td>-8852426674457033647</td>\n",
              "      <td>2126480030009879160</td>\n",
              "      <td>0.304522</td>\n",
              "    </tr>\n",
              "    <tr>\n",
              "      <th>4</th>\n",
              "      <td>7.312733</td>\n",
              "      <td>3.317</td>\n",
              "      <td>True</td>\n",
              "      <td>32</td>\n",
              "      <td>True</td>\n",
              "      <td>1</td>\n",
              "      <td>40.0</td>\n",
              "      <td>200111</td>\n",
              "      <td>-8852426674457033647</td>\n",
              "      <td>3408502330831153141</td>\n",
              "      <td>0.197682</td>\n",
              "    </tr>\n",
              "  </tbody>\n",
              "</table>\n",
              "</div>"
            ],
            "text/plain": [
              "   weight_pounds  weight_kilos  ...            hashmonth   meurand\n",
              "0       7.063611         3.204  ...  7108882242435606404  0.920699\n",
              "1       4.687028         2.126  ...  7170969733900686954  0.483441\n",
              "2       7.561856         3.430  ...  6392072535155213407  0.221445\n",
              "3       7.561856         3.430  ...  2126480030009879160  0.304522\n",
              "4       7.312733         3.317  ...  3408502330831153141  0.197682\n",
              "\n",
              "[5 rows x 11 columns]"
            ]
          },
          "metadata": {
            "tags": []
          },
          "execution_count": 24
        }
      ]
    },
    {
      "cell_type": "markdown",
      "metadata": {
        "id": "iFLymulXf33p",
        "colab_type": "text"
      },
      "source": [
        "# Análise bi-variada.\n",
        "\n",
        "Observando peso e quantidade a partir de diversas dimensões"
      ]
    },
    {
      "cell_type": "code",
      "metadata": {
        "id": "5TjYIw1fgAIX",
        "colab_type": "code",
        "colab": {}
      },
      "source": [
        "# Para facilitar nossa vida,  \n",
        "def get_grouped_values(column_name):\n",
        "  sql = \"\"\"\n",
        "SELECT\n",
        "  {0},\n",
        "  COUNT(1) AS qtde_bebes,\n",
        "  AVG(weight_pounds * 0.45359237) AS peso_medio\n",
        "FROM\n",
        "  publicdata.samples.natality\n",
        "WHERE\n",
        "  year > 2000\n",
        "GROUP BY\n",
        "  {0}\n",
        "ORDER BY\n",
        "  {0}\n",
        "  \"\"\".format(column_name)\n",
        "  return bgclient.query(sql).to_dataframe()"
      ],
      "execution_count": 0,
      "outputs": []
    },
    {
      "cell_type": "markdown",
      "metadata": {
        "id": "ZA6vCrbY6EX9",
        "colab_type": "text"
      },
      "source": [
        "A partir de então, plote e analise a quantidade de bebês nascidos e seu peso médio por cada um dos atributos pedidos pelo professor:\n"
      ]
    },
    {
      "cell_type": "code",
      "metadata": {
        "id": "la7j-T8s6H8_",
        "colab_type": "code",
        "outputId": "ed83aa80-d5ef-4ce5-8e0b-b9783c331d5d",
        "colab": {
          "base_uri": "https://localhost:8080/",
          "height": 1000
        }
      },
      "source": [
        "# Bar plot to see gestation_weeks with avg_wt linear and num_babies logarithmic\n",
        "columns_list = [\"is_male\", \"mother_age\", \"plurality\", \"gestation_weeks\", \"mother_married\"]\n",
        "\n",
        "for column in columns_list:\n",
        "  df = get_grouped_values(column)\n",
        "  df = df.sort_values(column)\n",
        "  display(df.transpose())\n",
        "  fig, (ax1, ax2) = plt.subplots(ncols=2, sharey=True, figsize=(12,4) )\n",
        "  df.plot(x=str(column), y='qtde_bebes', ax=ax1, logy=True, title=\"Bebês X {0}\".format(str(column)));\n",
        "  df.plot(x=str(column), y='qtde_bebes', ax=ax2, logy=True, kind='bar', title=\"Bebês X {0}\".format(str(column)));\n",
        "  plt.show()\n",
        "\n",
        "  fig, (ax1, ax2) = plt.subplots(ncols=2, sharey=True, figsize=(12,4) )\n",
        "  df.plot(x=str(column), y='peso_medio', ax=ax1, title=\"Peso X {0}\".format(str(column)));\n",
        "  df.plot(x=str(column), y='peso_medio', ax=ax2, kind='bar', title=\"Peso X {0}\".format(str(column)));\n",
        "  plt.show()"
      ],
      "execution_count": 0,
      "outputs": [
        {
          "output_type": "display_data",
          "data": {
            "text/html": [
              "<div>\n",
              "<style scoped>\n",
              "    .dataframe tbody tr th:only-of-type {\n",
              "        vertical-align: middle;\n",
              "    }\n",
              "\n",
              "    .dataframe tbody tr th {\n",
              "        vertical-align: top;\n",
              "    }\n",
              "\n",
              "    .dataframe thead th {\n",
              "        text-align: right;\n",
              "    }\n",
              "</style>\n",
              "<table border=\"1\" class=\"dataframe\">\n",
              "  <thead>\n",
              "    <tr style=\"text-align: right;\">\n",
              "      <th></th>\n",
              "      <th>0</th>\n",
              "      <th>1</th>\n",
              "    </tr>\n",
              "  </thead>\n",
              "  <tbody>\n",
              "    <tr>\n",
              "      <th>is_male</th>\n",
              "      <td>False</td>\n",
              "      <td>True</td>\n",
              "    </tr>\n",
              "    <tr>\n",
              "      <th>qtde_bebes</th>\n",
              "      <td>16245054</td>\n",
              "      <td>17026860</td>\n",
              "    </tr>\n",
              "    <tr>\n",
              "      <th>peso_medio</th>\n",
              "      <td>3.22264</td>\n",
              "      <td>3.33381</td>\n",
              "    </tr>\n",
              "  </tbody>\n",
              "</table>\n",
              "</div>"
            ],
            "text/plain": [
              "                   0         1\n",
              "is_male        False      True\n",
              "qtde_bebes  16245054  17026860\n",
              "peso_medio   3.22264   3.33381"
            ]
          },
          "metadata": {
            "tags": []
          }
        },
        {
          "output_type": "display_data",
          "data": {
            "image/png": "[encoded data removed]",
            "text/plain": [
              "<Figure size 864x288 with 2 Axes>"
            ]
          },
          "metadata": {
            "tags": []
          }
        },
        {
          "output_type": "display_data",
          "data": {
            "image/png": "[encoded data removed]",
            "text/plain": [
              "<Figure size 864x288 with 2 Axes>"
            ]
          },
          "metadata": {
            "tags": []
          }
        },
        {
          "output_type": "display_data",
          "data": {
            "text/html": [
              "<div>\n",
              "<style scoped>\n",
              "    .dataframe tbody tr th:only-of-type {\n",
              "        vertical-align: middle;\n",
              "    }\n",
              "\n",
              "    .dataframe tbody tr th {\n",
              "        vertical-align: top;\n",
              "    }\n",
              "\n",
              "    .dataframe thead th {\n",
              "        text-align: right;\n",
              "    }\n",
              "</style>\n",
              "<table border=\"1\" class=\"dataframe\">\n",
              "  <thead>\n",
              "    <tr style=\"text-align: right;\">\n",
              "      <th></th>\n",
              "      <th>0</th>\n",
              "      <th>1</th>\n",
              "      <th>2</th>\n",
              "      <th>3</th>\n",
              "      <th>4</th>\n",
              "      <th>5</th>\n",
              "      <th>6</th>\n",
              "      <th>7</th>\n",
              "      <th>8</th>\n",
              "      <th>9</th>\n",
              "      <th>10</th>\n",
              "      <th>11</th>\n",
              "      <th>12</th>\n",
              "      <th>13</th>\n",
              "      <th>14</th>\n",
              "      <th>15</th>\n",
              "      <th>16</th>\n",
              "      <th>17</th>\n",
              "      <th>18</th>\n",
              "      <th>19</th>\n",
              "      <th>20</th>\n",
              "      <th>21</th>\n",
              "      <th>22</th>\n",
              "      <th>23</th>\n",
              "      <th>24</th>\n",
              "      <th>25</th>\n",
              "      <th>26</th>\n",
              "      <th>27</th>\n",
              "      <th>28</th>\n",
              "      <th>29</th>\n",
              "      <th>30</th>\n",
              "      <th>31</th>\n",
              "      <th>32</th>\n",
              "      <th>33</th>\n",
              "      <th>34</th>\n",
              "      <th>35</th>\n",
              "      <th>36</th>\n",
              "      <th>37</th>\n",
              "      <th>38</th>\n",
              "      <th>39</th>\n",
              "      <th>40</th>\n",
              "      <th>41</th>\n",
              "      <th>42</th>\n",
              "      <th>43</th>\n",
              "      <th>44</th>\n",
              "    </tr>\n",
              "  </thead>\n",
              "  <tbody>\n",
              "    <tr>\n",
              "      <th>mother_age</th>\n",
              "      <td>10.000</td>\n",
              "      <td>11.000000</td>\n",
              "      <td>12.000000</td>\n",
              "      <td>13.000000</td>\n",
              "      <td>14.000000</td>\n",
              "      <td>15.000000</td>\n",
              "      <td>16.0000</td>\n",
              "      <td>17.00000</td>\n",
              "      <td>18.000000</td>\n",
              "      <td>1.900000e+01</td>\n",
              "      <td>2.000000e+01</td>\n",
              "      <td>2.100000e+01</td>\n",
              "      <td>2.200000e+01</td>\n",
              "      <td>2.300000e+01</td>\n",
              "      <td>2.400000e+01</td>\n",
              "      <td>2.500000e+01</td>\n",
              "      <td>2.600000e+01</td>\n",
              "      <td>2.700000e+01</td>\n",
              "      <td>2.800000e+01</td>\n",
              "      <td>2.900000e+01</td>\n",
              "      <td>3.000000e+01</td>\n",
              "      <td>3.100000e+01</td>\n",
              "      <td>3.200000e+01</td>\n",
              "      <td>3.300000e+01</td>\n",
              "      <td>3.400000e+01</td>\n",
              "      <td>3.500000e+01</td>\n",
              "      <td>36.000000</td>\n",
              "      <td>37.000000</td>\n",
              "      <td>38.000000</td>\n",
              "      <td>39.000000</td>\n",
              "      <td>40.000000</td>\n",
              "      <td>41.000000</td>\n",
              "      <td>42.000000</td>\n",
              "      <td>43.00000</td>\n",
              "      <td>44.000000</td>\n",
              "      <td>45.000000</td>\n",
              "      <td>46.000000</td>\n",
              "      <td>47.000000</td>\n",
              "      <td>48.00000</td>\n",
              "      <td>49.000000</td>\n",
              "      <td>50.000000</td>\n",
              "      <td>51.00000</td>\n",
              "      <td>52.000000</td>\n",
              "      <td>53.000000</td>\n",
              "      <td>54.000000</td>\n",
              "    </tr>\n",
              "    <tr>\n",
              "      <th>qtde_bebes</th>\n",
              "      <td>3.000</td>\n",
              "      <td>44.000000</td>\n",
              "      <td>1196.000000</td>\n",
              "      <td>7552.000000</td>\n",
              "      <td>44868.000000</td>\n",
              "      <td>147763.000000</td>\n",
              "      <td>341199.0000</td>\n",
              "      <td>613485.00000</td>\n",
              "      <td>973333.000000</td>\n",
              "      <td>1.359770e+06</td>\n",
              "      <td>1.541714e+06</td>\n",
              "      <td>1.625899e+06</td>\n",
              "      <td>1.709756e+06</td>\n",
              "      <td>1.734553e+06</td>\n",
              "      <td>1.764889e+06</td>\n",
              "      <td>1.796215e+06</td>\n",
              "      <td>1.814332e+06</td>\n",
              "      <td>1.819337e+06</td>\n",
              "      <td>1.815141e+06</td>\n",
              "      <td>1.798871e+06</td>\n",
              "      <td>1.754406e+06</td>\n",
              "      <td>1.679501e+06</td>\n",
              "      <td>1.557453e+06</td>\n",
              "      <td>1.411231e+06</td>\n",
              "      <td>1.266968e+06</td>\n",
              "      <td>1.106436e+06</td>\n",
              "      <td>930797.000000</td>\n",
              "      <td>750945.000000</td>\n",
              "      <td>588075.000000</td>\n",
              "      <td>449310.000000</td>\n",
              "      <td>324766.000000</td>\n",
              "      <td>220334.000000</td>\n",
              "      <td>140562.000000</td>\n",
              "      <td>83821.00000</td>\n",
              "      <td>46245.000000</td>\n",
              "      <td>24256.000000</td>\n",
              "      <td>12131.000000</td>\n",
              "      <td>6266.000000</td>\n",
              "      <td>3357.00000</td>\n",
              "      <td>1948.000000</td>\n",
              "      <td>2723.000000</td>\n",
              "      <td>225.00000</td>\n",
              "      <td>98.000000</td>\n",
              "      <td>83.000000</td>\n",
              "      <td>57.000000</td>\n",
              "    </tr>\n",
              "    <tr>\n",
              "      <th>peso_medio</th>\n",
              "      <td>3.417</td>\n",
              "      <td>2.789568</td>\n",
              "      <td>2.951221</td>\n",
              "      <td>3.019139</td>\n",
              "      <td>3.058883</td>\n",
              "      <td>3.103023</td>\n",
              "      <td>3.1281</td>\n",
              "      <td>3.14927</td>\n",
              "      <td>3.163093</td>\n",
              "      <td>3.186925e+00</td>\n",
              "      <td>3.205740e+00</td>\n",
              "      <td>3.221282e+00</td>\n",
              "      <td>3.240641e+00</td>\n",
              "      <td>3.257376e+00</td>\n",
              "      <td>3.271632e+00</td>\n",
              "      <td>3.286059e+00</td>\n",
              "      <td>3.298048e+00</td>\n",
              "      <td>3.307840e+00</td>\n",
              "      <td>3.314668e+00</td>\n",
              "      <td>3.322937e+00</td>\n",
              "      <td>3.327285e+00</td>\n",
              "      <td>3.330284e+00</td>\n",
              "      <td>3.332487e+00</td>\n",
              "      <td>3.332401e+00</td>\n",
              "      <td>3.331603e+00</td>\n",
              "      <td>3.324768e+00</td>\n",
              "      <td>3.318205</td>\n",
              "      <td>3.310843</td>\n",
              "      <td>3.300696</td>\n",
              "      <td>3.294292</td>\n",
              "      <td>3.281977</td>\n",
              "      <td>3.272784</td>\n",
              "      <td>3.256367</td>\n",
              "      <td>3.23683</td>\n",
              "      <td>3.197294</td>\n",
              "      <td>3.140008</td>\n",
              "      <td>3.060944</td>\n",
              "      <td>2.985536</td>\n",
              "      <td>2.89039</td>\n",
              "      <td>2.842592</td>\n",
              "      <td>2.798402</td>\n",
              "      <td>2.70975</td>\n",
              "      <td>2.855071</td>\n",
              "      <td>2.723537</td>\n",
              "      <td>2.898719</td>\n",
              "    </tr>\n",
              "  </tbody>\n",
              "</table>\n",
              "</div>"
            ],
            "text/plain": [
              "                0          1            2   ...         42         43         44\n",
              "mother_age  10.000  11.000000    12.000000  ...  52.000000  53.000000  54.000000\n",
              "qtde_bebes   3.000  44.000000  1196.000000  ...  98.000000  83.000000  57.000000\n",
              "peso_medio   3.417   2.789568     2.951221  ...   2.855071   2.723537   2.898719\n",
              "\n",
              "[3 rows x 45 columns]"
            ]
          },
          "metadata": {
            "tags": []
          }
        },
        {
          "output_type": "display_data",
          "data": {
            "image/png": "[encoded data removed]",
            "text/plain": [
              "<Figure size 864x288 with 2 Axes>"
            ]
          },
          "metadata": {
            "tags": []
          }
        },
        {
          "output_type": "display_data",
          "data": {
            "image/png": "[encoded data removed]",
            "text/plain": [
              "<Figure size 864x288 with 2 Axes>"
            ]
          },
          "metadata": {
            "tags": []
          }
        },
        {
          "output_type": "display_data",
          "data": {
            "text/html": [
              "<div>\n",
              "<style scoped>\n",
              "    .dataframe tbody tr th:only-of-type {\n",
              "        vertical-align: middle;\n",
              "    }\n",
              "\n",
              "    .dataframe tbody tr th {\n",
              "        vertical-align: top;\n",
              "    }\n",
              "\n",
              "    .dataframe thead th {\n",
              "        text-align: right;\n",
              "    }\n",
              "</style>\n",
              "<table border=\"1\" class=\"dataframe\">\n",
              "  <thead>\n",
              "    <tr style=\"text-align: right;\">\n",
              "      <th></th>\n",
              "      <th>0</th>\n",
              "      <th>1</th>\n",
              "      <th>2</th>\n",
              "      <th>3</th>\n",
              "      <th>4</th>\n",
              "    </tr>\n",
              "  </thead>\n",
              "  <tbody>\n",
              "    <tr>\n",
              "      <th>plurality</th>\n",
              "      <td>1.000000e+00</td>\n",
              "      <td>2.000000e+00</td>\n",
              "      <td>3.000000</td>\n",
              "      <td>4.000000</td>\n",
              "      <td>5.000000</td>\n",
              "    </tr>\n",
              "    <tr>\n",
              "      <th>qtde_bebes</th>\n",
              "      <td>3.215976e+07</td>\n",
              "      <td>1.056305e+06</td>\n",
              "      <td>51913.000000</td>\n",
              "      <td>3337.000000</td>\n",
              "      <td>597.000000</td>\n",
              "    </tr>\n",
              "    <tr>\n",
              "      <th>peso_medio</th>\n",
              "      <td>3.313340e+00</td>\n",
              "      <td>2.333672e+00</td>\n",
              "      <td>1.673049</td>\n",
              "      <td>1.292039</td>\n",
              "      <td>1.140809</td>\n",
              "    </tr>\n",
              "  </tbody>\n",
              "</table>\n",
              "</div>"
            ],
            "text/plain": [
              "                       0             1             2            3           4\n",
              "plurality   1.000000e+00  2.000000e+00      3.000000     4.000000    5.000000\n",
              "qtde_bebes  3.215976e+07  1.056305e+06  51913.000000  3337.000000  597.000000\n",
              "peso_medio  3.313340e+00  2.333672e+00      1.673049     1.292039    1.140809"
            ]
          },
          "metadata": {
            "tags": []
          }
        },
        {
          "output_type": "display_data",
          "data": {
            "image/png": "[encoded data removed]",
            "text/plain": [
              "<Figure size 864x288 with 2 Axes>"
            ]
          },
          "metadata": {
            "tags": []
          }
        },
        {
          "output_type": "display_data",
          "data": {
            "image/png": "[encoded data removed]",
            "text/plain": [
              "<Figure size 864x288 with 2 Axes>"
            ]
          },
          "metadata": {
            "tags": []
          }
        },
        {
          "output_type": "display_data",
          "data": {
            "text/html": [
              "<div>\n",
              "<style scoped>\n",
              "    .dataframe tbody tr th:only-of-type {\n",
              "        vertical-align: middle;\n",
              "    }\n",
              "\n",
              "    .dataframe tbody tr th {\n",
              "        vertical-align: top;\n",
              "    }\n",
              "\n",
              "    .dataframe thead th {\n",
              "        text-align: right;\n",
              "    }\n",
              "</style>\n",
              "<table border=\"1\" class=\"dataframe\">\n",
              "  <thead>\n",
              "    <tr style=\"text-align: right;\">\n",
              "      <th></th>\n",
              "      <th>1</th>\n",
              "      <th>2</th>\n",
              "      <th>3</th>\n",
              "      <th>4</th>\n",
              "      <th>5</th>\n",
              "      <th>6</th>\n",
              "      <th>7</th>\n",
              "      <th>8</th>\n",
              "      <th>9</th>\n",
              "      <th>10</th>\n",
              "      <th>11</th>\n",
              "      <th>12</th>\n",
              "      <th>13</th>\n",
              "      <th>14</th>\n",
              "      <th>15</th>\n",
              "      <th>16</th>\n",
              "      <th>17</th>\n",
              "      <th>18</th>\n",
              "      <th>19</th>\n",
              "      <th>20</th>\n",
              "      <th>21</th>\n",
              "      <th>22</th>\n",
              "      <th>23</th>\n",
              "      <th>24</th>\n",
              "      <th>25</th>\n",
              "      <th>26</th>\n",
              "      <th>27</th>\n",
              "      <th>28</th>\n",
              "      <th>29</th>\n",
              "      <th>30</th>\n",
              "      <th>31</th>\n",
              "      <th>0</th>\n",
              "    </tr>\n",
              "  </thead>\n",
              "  <tbody>\n",
              "    <tr>\n",
              "      <th>gestation_weeks</th>\n",
              "      <td>17.000000</td>\n",
              "      <td>18.000000</td>\n",
              "      <td>19.000000</td>\n",
              "      <td>20.000000</td>\n",
              "      <td>21.000000</td>\n",
              "      <td>22.000000</td>\n",
              "      <td>23.000000</td>\n",
              "      <td>24.000000</td>\n",
              "      <td>25.000000</td>\n",
              "      <td>26.000000</td>\n",
              "      <td>27.000000</td>\n",
              "      <td>28.00000</td>\n",
              "      <td>29.000000</td>\n",
              "      <td>30.000000</td>\n",
              "      <td>31.000000</td>\n",
              "      <td>32.000000</td>\n",
              "      <td>33.000000</td>\n",
              "      <td>34.000000</td>\n",
              "      <td>35.000000</td>\n",
              "      <td>3.600000e+01</td>\n",
              "      <td>3.700000e+01</td>\n",
              "      <td>3.800000e+01</td>\n",
              "      <td>3.900000e+01</td>\n",
              "      <td>4.000000e+01</td>\n",
              "      <td>4.100000e+01</td>\n",
              "      <td>42.00000</td>\n",
              "      <td>43.000000</td>\n",
              "      <td>44.000000</td>\n",
              "      <td>45.000000</td>\n",
              "      <td>46.000000</td>\n",
              "      <td>47.000000</td>\n",
              "      <td>NaN</td>\n",
              "    </tr>\n",
              "    <tr>\n",
              "      <th>qtde_bebes</th>\n",
              "      <td>2336.000000</td>\n",
              "      <td>3905.000000</td>\n",
              "      <td>6278.000000</td>\n",
              "      <td>10847.000000</td>\n",
              "      <td>14682.000000</td>\n",
              "      <td>18855.000000</td>\n",
              "      <td>24340.000000</td>\n",
              "      <td>33449.000000</td>\n",
              "      <td>38144.000000</td>\n",
              "      <td>44745.000000</td>\n",
              "      <td>50536.000000</td>\n",
              "      <td>67953.00000</td>\n",
              "      <td>82356.000000</td>\n",
              "      <td>113490.000000</td>\n",
              "      <td>147725.000000</td>\n",
              "      <td>208791.000000</td>\n",
              "      <td>310675.000000</td>\n",
              "      <td>533941.000000</td>\n",
              "      <td>866817.000000</td>\n",
              "      <td>1.524448e+06</td>\n",
              "      <td>2.998104e+06</td>\n",
              "      <td>6.103867e+06</td>\n",
              "      <td>8.348664e+06</td>\n",
              "      <td>6.467795e+06</td>\n",
              "      <td>2.993797e+06</td>\n",
              "      <td>987732.00000</td>\n",
              "      <td>514226.000000</td>\n",
              "      <td>265652.000000</td>\n",
              "      <td>136243.000000</td>\n",
              "      <td>71537.000000</td>\n",
              "      <td>43895.000000</td>\n",
              "      <td>236089.00000</td>\n",
              "    </tr>\n",
              "    <tr>\n",
              "      <th>peso_medio</th>\n",
              "      <td>0.443625</td>\n",
              "      <td>0.401155</td>\n",
              "      <td>0.367813</td>\n",
              "      <td>0.454306</td>\n",
              "      <td>0.504173</td>\n",
              "      <td>0.560398</td>\n",
              "      <td>0.629554</td>\n",
              "      <td>0.814957</td>\n",
              "      <td>0.925789</td>\n",
              "      <td>1.041978</td>\n",
              "      <td>1.159034</td>\n",
              "      <td>1.53215</td>\n",
              "      <td>1.713426</td>\n",
              "      <td>1.907414</td>\n",
              "      <td>2.047177</td>\n",
              "      <td>2.226057</td>\n",
              "      <td>2.397669</td>\n",
              "      <td>2.583161</td>\n",
              "      <td>2.757481</td>\n",
              "      <td>2.920017e+00</td>\n",
              "      <td>3.105717e+00</td>\n",
              "      <td>3.287667e+00</td>\n",
              "      <td>3.407258e+00</td>\n",
              "      <td>3.486753e+00</td>\n",
              "      <td>3.531724e+00</td>\n",
              "      <td>3.47109</td>\n",
              "      <td>3.435104</td>\n",
              "      <td>3.442801</td>\n",
              "      <td>3.440352</td>\n",
              "      <td>3.414155</td>\n",
              "      <td>3.400197</td>\n",
              "      <td>3.23607</td>\n",
              "    </tr>\n",
              "  </tbody>\n",
              "</table>\n",
              "</div>"
            ],
            "text/plain": [
              "                          1            2   ...            31            0 \n",
              "gestation_weeks    17.000000    18.000000  ...     47.000000           NaN\n",
              "qtde_bebes       2336.000000  3905.000000  ...  43895.000000  236089.00000\n",
              "peso_medio          0.443625     0.401155  ...      3.400197       3.23607\n",
              "\n",
              "[3 rows x 32 columns]"
            ]
          },
          "metadata": {
            "tags": []
          }
        },
        {
          "output_type": "display_data",
          "data": {
            "image/png": "[encoded data removed]",
            "text/plain": [
              "<Figure size 864x288 with 2 Axes>"
            ]
          },
          "metadata": {
            "tags": []
          }
        },
        {
          "output_type": "display_data",
          "data": {
            "image/png": "[encoded data removed]",
            "text/plain": [
              "<Figure size 864x288 with 2 Axes>"
            ]
          },
          "metadata": {
            "tags": []
          }
        },
        {
          "output_type": "display_data",
          "data": {
            "text/html": [
              "<div>\n",
              "<style scoped>\n",
              "    .dataframe tbody tr th:only-of-type {\n",
              "        vertical-align: middle;\n",
              "    }\n",
              "\n",
              "    .dataframe tbody tr th {\n",
              "        vertical-align: top;\n",
              "    }\n",
              "\n",
              "    .dataframe thead th {\n",
              "        text-align: right;\n",
              "    }\n",
              "</style>\n",
              "<table border=\"1\" class=\"dataframe\">\n",
              "  <thead>\n",
              "    <tr style=\"text-align: right;\">\n",
              "      <th></th>\n",
              "      <th>0</th>\n",
              "      <th>1</th>\n",
              "    </tr>\n",
              "  </thead>\n",
              "  <tbody>\n",
              "    <tr>\n",
              "      <th>mother_married</th>\n",
              "      <td>False</td>\n",
              "      <td>True</td>\n",
              "    </tr>\n",
              "    <tr>\n",
              "      <th>qtde_bebes</th>\n",
              "      <td>12225150</td>\n",
              "      <td>21046764</td>\n",
              "    </tr>\n",
              "    <tr>\n",
              "      <th>peso_medio</th>\n",
              "      <td>3.19231</td>\n",
              "      <td>3.33018</td>\n",
              "    </tr>\n",
              "  </tbody>\n",
              "</table>\n",
              "</div>"
            ],
            "text/plain": [
              "                       0         1\n",
              "mother_married     False      True\n",
              "qtde_bebes      12225150  21046764\n",
              "peso_medio       3.19231   3.33018"
            ]
          },
          "metadata": {
            "tags": []
          }
        },
        {
          "output_type": "display_data",
          "data": {
            "image/png": "[encoded data removed]",
            "text/plain": [
              "<Figure size 864x288 with 2 Axes>"
            ]
          },
          "metadata": {
            "tags": []
          }
        },
        {
          "output_type": "display_data",
          "data": {
            "image/png": "[encoded data removed]",
            "text/plain": [
              "<Figure size 864x288 with 2 Axes>"
            ]
          },
          "metadata": {
            "tags": []
          }
        }
      ]
    },
    {
      "cell_type": "code",
      "metadata": {
        "id": "x-mCG4__1g2j",
        "colab_type": "code",
        "colab": {}
      },
      "source": [
        "# Bar plot to see gestation_weeks with avg_wt linear and num_babies logarithmic\n",
        "df = get_grouped_values('gestation_weeks')\n",
        "df = df.sort_values('gestation_weeks')\n",
        "display(df.transpose())\n",
        "fig, (ax1, ax2) = plt.subplots(ncols=2, sharey=True, figsize=(12,4) )\n",
        "df.plot(x='gestation_weeks', y='qtde_bebes', ax=ax1, logy=True, title=\"Bebês X Sem. Gestação\");\n",
        "df.plot(x='gestation_weeks', y='qtde_bebes', ax=ax2, logy=True, kind='bar', title=\"Bebês X Sem. Gestação\");\n",
        "plt.show()\n",
        "\n",
        "fig, (ax1, ax2) = plt.subplots(ncols=2, sharey=True, figsize=(12,4) )\n",
        "df.plot(x='gestation_weeks', y='peso_medio', ax=ax1, title=\"Peso X Sem. Gestação\");\n",
        "df.plot(x='gestation_weeks', y='peso_medio', ax=ax2, kind='bar', title=\"Peso X Sem. Gestação\");\n",
        "plt.show()"
      ],
      "execution_count": 0,
      "outputs": []
    },
    {
      "cell_type": "markdown",
      "metadata": {
        "id": "xUZwJitcmUNy",
        "colab_type": "text"
      },
      "source": [
        "# Conclusão"
      ]
    },
    {
      "cell_type": "markdown",
      "metadata": {
        "id": "y0CwlZXmubol",
        "colab_type": "text"
      },
      "source": [
        "Informe aqui as hipóteses obtidas com base na EDA:"
      ]
    },
    {
      "cell_type": "markdown",
      "metadata": {
        "id": "cdgZGvtchdbq",
        "colab_type": "text"
      },
      "source": [
        "(Escreva sua conclusão aqui!)\n",
        "\n",
        " \n"
      ]
    },
    {
      "cell_type": "markdown",
      "metadata": {
        "id": "HcugVgL36qoh",
        "colab_type": "text"
      },
      "source": [
        "\n",
        "No próximo notebook, desenvolveremos um modelo de aprendizado de máquina para combinar todos esses fatores para obter uma previsão do peso de um bebê."
      ]
    }
  ]
}