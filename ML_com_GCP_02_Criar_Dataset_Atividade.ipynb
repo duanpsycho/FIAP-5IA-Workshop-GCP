{
  "nbformat": 4,
  "nbformat_minor": 0,
  "metadata": {
    "colab": {
      "name": "ML com GCP - 02 - Criar Dataset - Atividade",
      "provenance": [],
      "collapsed_sections": []
    },
    "kernelspec": {
      "name": "python3",
      "display_name": "Python 3"
    }
  },
  "cells": [
    {
      "cell_type": "markdown",
      "metadata": {
        "id": "ttxUdtrlm4m6",
        "colab_type": "text"
      },
      "source": [
        "# Autenticação\n",
        "Primeiro precisamos autenticar nossa sessão do Colab no Google e definimos o ID do projeto"
      ]
    },
    {
      "cell_type": "code",
      "metadata": {
        "id": "9wgK4E7UmlR8",
        "colab_type": "code",
        "outputId": "5ded1081-61d1-40f7-b490-759d12890456",
        "colab": {
          "base_uri": "https://localhost:8080/",
          "height": 34
        }
      },
      "source": [
        "from google.colab import auth\n",
        "auth.authenticate_user()\n",
        "print('Authenticated')"
      ],
      "execution_count": 0,
      "outputs": [
        {
          "output_type": "stream",
          "text": [
            "Authenticated\n"
          ],
          "name": "stdout"
        }
      ]
    },
    {
      "cell_type": "code",
      "metadata": {
        "id": "aiHcymktlWxC",
        "colab_type": "code",
        "cellView": "both",
        "colab": {}
      },
      "source": [
        "#Informe o id do projeto nesta linha:\n",
        "\n",
        "project_id = \"workshop-5ia-tensorflow-253922\" #@param {type:\"string\"}\n"
      ],
      "execution_count": 0,
      "outputs": []
    },
    {
      "cell_type": "markdown",
      "metadata": {
        "id": "D7SXXClkL-3S",
        "colab_type": "text"
      },
      "source": [
        "# Client Big Query\n",
        "\n",
        "Como vamos buscar dados no bigquery, é necessário criar um cliente BG"
      ]
    },
    {
      "cell_type": "code",
      "metadata": {
        "id": "_MooAayGL-OK",
        "colab_type": "code",
        "colab": {}
      },
      "source": [
        "# Call BigQuery and examine in dataframe\n",
        "from google.cloud import bigquery\n",
        "\n",
        "bgclient = bigquery.Client(project=project_id)"
      ],
      "execution_count": 0,
      "outputs": []
    },
    {
      "cell_type": "markdown",
      "metadata": {
        "id": "0Cd5TcsWr7Ok",
        "colab_type": "text"
      },
      "source": [
        "Demais imports:"
      ]
    },
    {
      "cell_type": "code",
      "metadata": {
        "id": "QcW9RAL6j3_v",
        "colab_type": "code",
        "colab": {}
      },
      "source": [
        "import matplotlib.pyplot as plt\n",
        "import seaborn as sns, numpy as np\n"
      ],
      "execution_count": 0,
      "outputs": []
    },
    {
      "cell_type": "markdown",
      "metadata": {
        "id": "CBtxvZtydI6R",
        "colab_type": "text"
      },
      "source": [
        "#Obtenção dos dados\n",
        "\n",
        "Como vimos, temos 137.826.763 de observações na base.\n",
        "\n",
        "Mesmo considerando apenas os nascimentos a partir de 2001, teremos 33.271.914 observações.\n",
        "\n",
        "Vamos faça um comando para obter apenas 0,1% porcento do registros (ou seja, **aproximadamente** 33.3 mil observações)"
      ]
    },
    {
      "cell_type": "code",
      "metadata": {
        "id": "DCS1iwsUHPuL",
        "colab_type": "code",
        "colab": {}
      },
      "source": [
        "query = \"\"\"\n",
        "SELECT\n",
        "  weight_pounds * 0.45359237 AS weight_kilos,\n",
        "  is_male,\n",
        "  mother_age,\n",
        "  mother_married,\n",
        "  plurality,\n",
        "  gestation_weeks,\n",
        "  CONCAT(CAST(YEAR AS STRING), CAST(month AS STRING)) as year_and_month,\n",
        "  FARM_FINGERPRINT('ELTHON') AS MeuHash,  \n",
        "  ABS(FARM_FINGERPRINT(CONCAT(CAST(YEAR AS STRING), CAST(month AS STRING)))) AS hashmonth,\n",
        "  RAND() AS meurand\n",
        "FROM\n",
        "  publicdata.samples.natality\n",
        "WHERE year > 2000 AND RAND() <= 0.001\n",
        " ORDER BY meurand \n",
        "\"\"\""
      ],
      "execution_count": 0,
      "outputs": []
    },
    {
      "cell_type": "code",
      "metadata": {
        "id": "OApqG631Hz36",
        "colab_type": "code",
        "outputId": "14993e34-96b5-44d0-d369-40f8cf7601cb",
        "colab": {
          "base_uri": "https://localhost:8080/",
          "height": 34
        }
      },
      "source": [
        "df = bgclient.query(query).to_dataframe()\n",
        "df.shape"
      ],
      "execution_count": 0,
      "outputs": [
        {
          "output_type": "execute_result",
          "data": {
            "text/plain": [
              "(33218, 10)"
            ]
          },
          "metadata": {
            "tags": []
          },
          "execution_count": 14
        }
      ]
    },
    {
      "cell_type": "code",
      "metadata": {
        "id": "1K6QvegbIEqq",
        "colab_type": "code",
        "colab": {}
      },
      "source": [
        "df.head()"
      ],
      "execution_count": 0,
      "outputs": []
    },
    {
      "cell_type": "markdown",
      "metadata": {
        "id": "6uBCPKuDI8CD",
        "colab_type": "text"
      },
      "source": [
        "# Pré-Processamento"
      ]
    },
    {
      "cell_type": "markdown",
      "metadata": {
        "id": "AmBQEDC1Jb5I",
        "colab_type": "text"
      },
      "source": [
        "Aparentemente, há observações com NaN ou ainda como valores igual a zero. Ajuste o dataset para que isso não \"polua\" nossa análise"
      ]
    },
    {
      "cell_type": "code",
      "metadata": {
        "id": "DpsLooQ1IHBv",
        "colab_type": "code",
        "outputId": "231d07b5-7371-4bf1-cff0-c1071a2e2b9b",
        "colab": {
          "base_uri": "https://localhost:8080/",
          "height": 204
        }
      },
      "source": [
        "df.isnull().sum()"
      ],
      "execution_count": 0,
      "outputs": [
        {
          "output_type": "execute_result",
          "data": {
            "text/plain": [
              "weight_kilos        36\n",
              "is_male              0\n",
              "mother_age           0\n",
              "mother_married       0\n",
              "plurality            0\n",
              "gestation_weeks    223\n",
              "year_and_month       0\n",
              "MeuHash              0\n",
              "hashmonth            0\n",
              "meurand              0\n",
              "dtype: int64"
            ]
          },
          "metadata": {
            "tags": []
          },
          "execution_count": 15
        }
      ]
    },
    {
      "cell_type": "code",
      "metadata": {
        "id": "HcwyTveCQIh8",
        "colab_type": "code",
        "colab": {}
      },
      "source": [
        "df.dropna(axis='rows',how='any', inplace=True)"
      ],
      "execution_count": 0,
      "outputs": []
    },
    {
      "cell_type": "code",
      "metadata": {
        "id": "H73fkRI57lnI",
        "colab_type": "code",
        "outputId": "3a804a74-5223-4414-e1ea-76d4c07c8adc",
        "colab": {
          "base_uri": "https://localhost:8080/",
          "height": 204
        }
      },
      "source": [
        "df.isnull().sum()"
      ],
      "execution_count": 0,
      "outputs": [
        {
          "output_type": "execute_result",
          "data": {
            "text/plain": [
              "weight_kilos       0\n",
              "is_male            0\n",
              "mother_age         0\n",
              "mother_married     0\n",
              "plurality          0\n",
              "gestation_weeks    0\n",
              "year_and_month     0\n",
              "MeuHash            0\n",
              "hashmonth          0\n",
              "meurand            0\n",
              "dtype: int64"
            ]
          },
          "metadata": {
            "tags": []
          },
          "execution_count": 20
        }
      ]
    },
    {
      "cell_type": "code",
      "metadata": {
        "id": "F7amHKrVKc-A",
        "colab_type": "code",
        "outputId": "75f4dbbb-8c1d-40cb-905e-02844a85a978",
        "colab": {
          "base_uri": "https://localhost:8080/",
          "height": 204
        }
      },
      "source": [
        "df[['is_male', 'mother_age', 'mother_married', 'plurality', 'gestation_weeks']].head()"
      ],
      "execution_count": 0,
      "outputs": [
        {
          "output_type": "execute_result",
          "data": {
            "text/html": [
              "<div>\n",
              "<style scoped>\n",
              "    .dataframe tbody tr th:only-of-type {\n",
              "        vertical-align: middle;\n",
              "    }\n",
              "\n",
              "    .dataframe tbody tr th {\n",
              "        vertical-align: top;\n",
              "    }\n",
              "\n",
              "    .dataframe thead th {\n",
              "        text-align: right;\n",
              "    }\n",
              "</style>\n",
              "<table border=\"1\" class=\"dataframe\">\n",
              "  <thead>\n",
              "    <tr style=\"text-align: right;\">\n",
              "      <th></th>\n",
              "      <th>is_male</th>\n",
              "      <th>mother_age</th>\n",
              "      <th>mother_married</th>\n",
              "      <th>plurality</th>\n",
              "      <th>gestation_weeks</th>\n",
              "    </tr>\n",
              "  </thead>\n",
              "  <tbody>\n",
              "    <tr>\n",
              "      <th>0</th>\n",
              "      <td>True</td>\n",
              "      <td>36</td>\n",
              "      <td>False</td>\n",
              "      <td>1</td>\n",
              "      <td>29.0</td>\n",
              "    </tr>\n",
              "    <tr>\n",
              "      <th>1</th>\n",
              "      <td>False</td>\n",
              "      <td>16</td>\n",
              "      <td>False</td>\n",
              "      <td>1</td>\n",
              "      <td>39.0</td>\n",
              "    </tr>\n",
              "    <tr>\n",
              "      <th>2</th>\n",
              "      <td>True</td>\n",
              "      <td>23</td>\n",
              "      <td>False</td>\n",
              "      <td>1</td>\n",
              "      <td>39.0</td>\n",
              "    </tr>\n",
              "    <tr>\n",
              "      <th>3</th>\n",
              "      <td>True</td>\n",
              "      <td>25</td>\n",
              "      <td>True</td>\n",
              "      <td>1</td>\n",
              "      <td>38.0</td>\n",
              "    </tr>\n",
              "    <tr>\n",
              "      <th>4</th>\n",
              "      <td>True</td>\n",
              "      <td>33</td>\n",
              "      <td>True</td>\n",
              "      <td>1</td>\n",
              "      <td>40.0</td>\n",
              "    </tr>\n",
              "  </tbody>\n",
              "</table>\n",
              "</div>"
            ],
            "text/plain": [
              "   is_male  mother_age  mother_married  plurality  gestation_weeks\n",
              "0     True          36           False          1             29.0\n",
              "1    False          16           False          1             39.0\n",
              "2     True          23           False          1             39.0\n",
              "3     True          25            True          1             38.0\n",
              "4     True          33            True          1             40.0"
            ]
          },
          "metadata": {
            "tags": []
          },
          "execution_count": 21
        }
      ]
    },
    {
      "cell_type": "code",
      "metadata": {
        "id": "8VNBdTuw7wMn",
        "colab_type": "code",
        "outputId": "138d446e-b7f1-4833-8ae1-e4524fdbdf44",
        "colab": {
          "base_uri": "https://localhost:8080/",
          "height": 68
        }
      },
      "source": [
        "df.columns"
      ],
      "execution_count": 0,
      "outputs": [
        {
          "output_type": "execute_result",
          "data": {
            "text/plain": [
              "Index(['weight_kilos', 'is_male', 'mother_age', 'mother_married', 'plurality',\n",
              "       'gestation_weeks', 'year_and_month', 'MeuHash', 'hashmonth', 'meurand'],\n",
              "      dtype='object')"
            ]
          },
          "metadata": {
            "tags": []
          },
          "execution_count": 22
        }
      ]
    },
    {
      "cell_type": "markdown",
      "metadata": {
        "id": "lTfb0c6bMutR",
        "colab_type": "text"
      },
      "source": [
        "# Spliting em treino e teste"
      ]
    },
    {
      "cell_type": "markdown",
      "metadata": {
        "id": "zIXgCfXMKZ4f",
        "colab_type": "text"
      },
      "source": [
        "Divida o dataset em 75% treino e 25% testes.\n",
        "Mantenha as colunas \n",
        "\n",
        "```\n",
        "'weight_kilos', 'is_male', 'mother_age', 'mother_married', 'plurality', 'gestation_weeks', 'hashmonth'\n",
        "```"
      ]
    },
    {
      "cell_type": "code",
      "metadata": {
        "id": "CxSI2Yfq8hK3",
        "colab_type": "code",
        "outputId": "7f8f41cd-d205-473a-83d4-400144b76ffd",
        "colab": {
          "base_uri": "https://localhost:8080/",
          "height": 34
        }
      },
      "source": [
        "df.shape"
      ],
      "execution_count": 0,
      "outputs": [
        {
          "output_type": "execute_result",
          "data": {
            "text/plain": [
              "(32967, 10)"
            ]
          },
          "metadata": {
            "tags": []
          },
          "execution_count": 31
        }
      ]
    },
    {
      "cell_type": "code",
      "metadata": {
        "id": "5_UmVi8GMz6F",
        "colab_type": "code",
        "colab": {}
      },
      "source": [
        "# Duan\n",
        "df_treino = df[['weight_kilos', 'is_male', 'mother_age', 'mother_married', 'plurality', 'gestation_weeks', 'hashmonth']][:round(df.shape[0]*0.75)]\n",
        "df_teste  = df[['weight_kilos', 'is_male', 'mother_age', 'mother_married', 'plurality', 'gestation_weeks', 'hashmonth']][round(df.shape[0]*0.75):]\n",
        "\n",
        "# Elthon\n",
        "train_row = np.random.rand(len(df)) <= 0.75\n",
        "\n",
        "# Exemplo\n",
        "teste = np.random.rand(8)\n",
        "print(teste)\n",
        "print(teste <= 0.75)"
      ],
      "execution_count": 0,
      "outputs": []
    },
    {
      "cell_type": "code",
      "metadata": {
        "id": "9c3568vnOR52",
        "colab_type": "code",
        "outputId": "a8807e75-2591-4936-ea0d-edb01c89d13f",
        "colab": {
          "base_uri": "https://localhost:8080/",
          "height": 34
        }
      },
      "source": [
        "print(df_treino.shape, df_teste.shape)"
      ],
      "execution_count": 0,
      "outputs": [
        {
          "output_type": "stream",
          "text": [
            "(24725, 7) (8242, 7)\n"
          ],
          "name": "stdout"
        }
      ]
    },
    {
      "cell_type": "code",
      "metadata": {
        "id": "3j9QCKul89Fu",
        "colab_type": "code",
        "outputId": "6d021a6f-bfdf-4f2d-d18d-a5c07bbcc3ed",
        "colab": {
          "base_uri": "https://localhost:8080/",
          "height": 34
        }
      },
      "source": [
        "print((df_treino.shape[0]+df_teste.shape[0])==df.shape[0])"
      ],
      "execution_count": 0,
      "outputs": [
        {
          "output_type": "stream",
          "text": [
            "True\n"
          ],
          "name": "stdout"
        }
      ]
    },
    {
      "cell_type": "markdown",
      "metadata": {
        "id": "kT5ECvmMKYGH",
        "colab_type": "text"
      },
      "source": [
        "#Export dos dados para serem processados pelo Tensorflow\n"
      ]
    },
    {
      "cell_type": "markdown",
      "metadata": {
        "id": "wRdXus4XPURU",
        "colab_type": "text"
      },
      "source": [
        "Grave o conteúdo em dois datasets, treino.csv e teste.csv, sem índice de linhas ou header de colunas"
      ]
    },
    {
      "cell_type": "code",
      "metadata": {
        "id": "0iQI_INaO5WQ",
        "colab_type": "code",
        "colab": {}
      },
      "source": [
        "# Duan\n",
        "df_treino.to_csv('treino.csv', index=False, header=False)\n",
        "df_teste.to_csv('teste.csv', index=False, header=False)\n",
        "\n",
        "# Elthon\n",
        "df_treino.to_csv('treino.csv', index=False, header=False)\n",
        "df_teste.to_csv('teste.csv', index=False, header=False)"
      ],
      "execution_count": 0,
      "outputs": []
    },
    {
      "cell_type": "markdown",
      "metadata": {
        "id": "ALDE4EvwQb79",
        "colab_type": "text"
      },
      "source": [
        "Verifica os arquicos salvos:"
      ]
    },
    {
      "cell_type": "code",
      "metadata": {
        "id": "P9NAPi7sPOMt",
        "colab_type": "code",
        "outputId": "149edffc-f799-4b3a-ab37-118e6d304a3f",
        "colab": {
          "base_uri": "https://localhost:8080/",
          "height": 850
        }
      },
      "source": [
        "%%bash\n",
        "wc -l *.csv\n",
        "head *.csv\n",
        "tail *.csv"
      ],
      "execution_count": 0,
      "outputs": [
        {
          "output_type": "stream",
          "text": [
            "   8242 teste.csv\n",
            "  24725 treino.csv\n",
            "  32967 total\n",
            "==> teste.csv <==\n",
            "3.9689999966716343,False,33,True,1,41.0,4979697502521811334\n",
            "1.6399999986247114,False,21,False,1,35.0,3095933535584005890\n",
            "3.4299999971236343,True,29,True,1,39.0,1305143018446161857\n",
            "2.437999997955516,False,31,True,1,33.0,7872612453343038854\n",
            "2.947999997527835,True,23,True,1,39.0,1622638268154624360\n",
            "3.4589999970993155,False,27,True,1,40.0,4979697502521811334\n",
            "3.28499999724523,False,28,True,1,36.0,2363238223526193234\n",
            "3.3399999971991075,True,21,True,1,40.0,8391424625589759186\n",
            "2.4099999979789968,False,25,True,1,38.0,7420272703711713305\n",
            "3.4589999970993155,True,36,True,1,37.0,7445587375556638376\n",
            "\n",
            "==> treino.csv <==\n",
            "0.949999999203339,True,36,False,1,29.0,5934265245228309013\n",
            "3.2099999973081244,False,16,False,1,39.0,5937540421097454372\n",
            "3.741999996861994,True,23,False,1,39.0,1002950341933487066\n",
            "2.063999998269149,True,25,True,1,38.0,5107972924983092617\n",
            "3.7709999968376744,True,33,True,1,40.0,411066950820961322\n",
            "3.8599999967630403,True,32,True,1,39.0,5937540421097454372\n",
            "3.4299999971236343,True,21,False,1,36.0,5896567601480310696\n",
            "3.883999996742914,True,31,True,1,39.0,2246942437170405963\n",
            "2.721999997717356,False,27,False,2,38.0,700070369880083266\n",
            "3.3739999971705954,True,25,True,1,39.0,3765901273411398433\n",
            "==> teste.csv <==\n",
            "2.3809999980033156,False,35,True,1,41.0,1403073183891835564\n",
            "2.814999997639368,True,22,True,1,38.0,5742197815970064689\n",
            "3.5719999970045544,True,27,True,1,38.0,6637442812569910270\n",
            "2.947999997527835,False,34,True,1,39.0,1808845555948931465\n",
            "3.4869999970758347,True,33,True,1,38.0,8599690069971956834\n",
            "3.4299999971236343,True,26,True,1,41.0,2768780346491825728\n",
            "3.174999997337475,False,22,False,1,40.0,2700219941840496344\n",
            "3.2889999972418758,False,29,True,1,32.0,2013084202883420573\n",
            "2.777999997670395,True,31,False,1,38.0,3545707052733304728\n",
            "3.5479999970246805,False,26,False,1,39.0,700070369880083266\n",
            "\n",
            "==> treino.csv <==\n",
            "3.543999997028035,False,30,True,1,40.0,1011945037241428753\n",
            "3.798999996814194,True,36,True,1,41.0,8904940584331855459\n",
            "2.947999997527835,False,27,True,1,40.0,411066950820961322\n",
            "3.8149999968007773,False,28,False,1,39.0,454960867574323744\n",
            "3.8749999967504616,True,24,False,1,39.0,1891060869255459203\n",
            "2.5229999978842357,True,24,False,1,38.0,7361509899869211058\n",
            "3.4299999971236343,True,31,False,1,40.0,524531196325542205\n",
            "3.798999996814194,True,31,True,1,39.0,6782146986770280327\n",
            "3.883999996742914,False,23,True,1,40.0,6888635180361964765\n",
            "3.656999996933274,False,28,True,1,44.0,6244544205302024223\n"
          ],
          "name": "stdout"
        }
      ]
    },
    {
      "cell_type": "code",
      "metadata": {
        "id": "xfVi1UDyaigm",
        "colab_type": "code",
        "colab": {}
      },
      "source": [
        ""
      ],
      "execution_count": 0,
      "outputs": []
    },
    {
      "cell_type": "markdown",
      "metadata": {
        "id": "9Hr1SfTrade3",
        "colab_type": "text"
      },
      "source": [
        "# Exporta para o Cloud Storage"
      ]
    },
    {
      "cell_type": "code",
      "metadata": {
        "id": "0MXm4KhtZW7_",
        "colab_type": "code",
        "outputId": "082b92a0-71e1-4bc7-b1d4-f8a76bdf0e5a",
        "colab": {
          "base_uri": "https://localhost:8080/",
          "height": 85
        }
      },
      "source": [
        "!gsutil cp *.csv gs://workshop-5ia-tensorflow"
      ],
      "execution_count": 0,
      "outputs": [
        {
          "output_type": "stream",
          "text": [
            "Copying file://teste.csv [Content-Type=text/csv]...\n",
            "Copying file://treino.csv [Content-Type=text/csv]...\n",
            "/ [2 files][  1.9 MiB/  1.9 MiB]                                                \n",
            "Operation completed over 2 objects/1.9 MiB.                                      \n"
          ],
          "name": "stdout"
        }
      ]
    }
  ]
}