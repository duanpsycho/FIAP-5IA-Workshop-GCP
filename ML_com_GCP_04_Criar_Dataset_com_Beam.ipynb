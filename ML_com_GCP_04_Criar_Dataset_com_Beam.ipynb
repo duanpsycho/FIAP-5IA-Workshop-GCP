{
  "nbformat": 4,
  "nbformat_minor": 0,
  "metadata": {
    "colab": {
      "name": "ML com GCP - 04 - Criar Dataset com Beam",
      "provenance": [],
      "collapsed_sections": []
    },
    "kernelspec": {
      "name": "python3",
      "display_name": "Python 3"
    }
  },
  "cells": [
    {
      "cell_type": "markdown",
      "metadata": {
        "id": "04ZlpTZf_ZbI",
        "colab_type": "text"
      },
      "source": [
        "# instala Pré-Reqs"
      ]
    },
    {
      "cell_type": "code",
      "metadata": {
        "id": "NHkvAlIZ-wEf",
        "colab_type": "code",
        "colab": {
          "base_uri": "https://localhost:8080/",
          "height": 785
        },
        "outputId": "69d43db7-1ce0-44d6-c9fa-a6a968b2bea6"
      },
      "source": [
        "%pip install apache-beam[gcp]==2.13.0"
      ],
      "execution_count": 1,
      "outputs": [
        {
          "output_type": "stream",
          "text": [
            "Requirement already satisfied: apache-beam[gcp]==2.13.0 in /usr/local/lib/python3.6/dist-packages (2.13.0)\n",
            "Requirement already satisfied: oauth2client<4,>=2.0.1 in /usr/local/lib/python3.6/dist-packages (from apache-beam[gcp]==2.13.0) (3.0.0)\n",
            "Requirement already satisfied: future<1.0.0,>=0.16.0 in /usr/local/lib/python3.6/dist-packages (from apache-beam[gcp]==2.13.0) (0.16.0)\n",
            "Requirement already satisfied: hdfs<3.0.0,>=2.1.0 in /usr/local/lib/python3.6/dist-packages (from apache-beam[gcp]==2.13.0) (2.5.8)\n",
            "Requirement already satisfied: pytz>=2018.3 in /usr/local/lib/python3.6/dist-packages (from apache-beam[gcp]==2.13.0) (2018.9)\n",
            "Requirement already satisfied: pyarrow<0.14.0,>=0.11.1; python_version >= \"3.0\" or platform_system != \"Windows\" in /usr/local/lib/python3.6/dist-packages (from apache-beam[gcp]==2.13.0) (0.13.0)\n",
            "Requirement already satisfied: dill<0.2.10,>=0.2.9 in /usr/local/lib/python3.6/dist-packages (from apache-beam[gcp]==2.13.0) (0.2.9)\n",
            "Requirement already satisfied: crcmod<2.0,>=1.7 in /usr/local/lib/python3.6/dist-packages (from apache-beam[gcp]==2.13.0) (1.7)\n",
            "Requirement already satisfied: grpcio<2,>=1.8 in /usr/local/lib/python3.6/dist-packages (from apache-beam[gcp]==2.13.0) (1.15.0)\n",
            "Requirement already satisfied: avro-python3<2.0.0,>=1.8.1; python_version >= \"3.0\" in /usr/local/lib/python3.6/dist-packages (from apache-beam[gcp]==2.13.0) (1.9.1)\n",
            "Requirement already satisfied: pydot<1.3,>=1.2.0 in /usr/local/lib/python3.6/dist-packages (from apache-beam[gcp]==2.13.0) (1.2.4)\n",
            "Requirement already satisfied: protobuf<4,>=3.5.0.post1 in /usr/local/lib/python3.6/dist-packages (from apache-beam[gcp]==2.13.0) (3.7.1)\n",
            "Requirement already satisfied: fastavro<0.22,>=0.21.4 in /usr/local/lib/python3.6/dist-packages (from apache-beam[gcp]==2.13.0) (0.21.24)\n",
            "Requirement already satisfied: pyyaml<4.0.0,>=3.12 in /usr/local/lib/python3.6/dist-packages (from apache-beam[gcp]==2.13.0) (3.13)\n",
            "Requirement already satisfied: mock<3.0.0,>=1.0.1 in /usr/local/lib/python3.6/dist-packages (from apache-beam[gcp]==2.13.0) (2.0.0)\n",
            "Requirement already satisfied: httplib2<=0.12.0,>=0.8 in /usr/local/lib/python3.6/dist-packages (from apache-beam[gcp]==2.13.0) (0.11.3)\n",
            "Requirement already satisfied: cachetools<4,>=3.1.0; extra == \"gcp\" in /usr/local/lib/python3.6/dist-packages (from apache-beam[gcp]==2.13.0) (3.1.1)\n",
            "Requirement already satisfied: google-cloud-bigtable<0.33.0,>=0.31.1; extra == \"gcp\" in /usr/local/lib/python3.6/dist-packages (from apache-beam[gcp]==2.13.0) (0.32.2)\n",
            "Requirement already satisfied: google-cloud-bigquery<1.7.0,>=1.6.0; extra == \"gcp\" in /usr/local/lib/python3.6/dist-packages (from apache-beam[gcp]==2.13.0) (1.6.2)\n",
            "Requirement already satisfied: google-cloud-pubsub<0.40.0,>=0.39.0; extra == \"gcp\" in /usr/local/lib/python3.6/dist-packages (from apache-beam[gcp]==2.13.0) (0.39.1)\n",
            "Requirement already satisfied: google-cloud-datastore<1.8.0,>=1.7.1; extra == \"gcp\" in /usr/local/lib/python3.6/dist-packages (from apache-beam[gcp]==2.13.0) (1.7.4)\n",
            "Requirement already satisfied: google-apitools<0.5.29,>=0.5.28; extra == \"gcp\" in /usr/local/lib/python3.6/dist-packages (from apache-beam[gcp]==2.13.0) (0.5.28)\n",
            "Requirement already satisfied: google-cloud-core<0.30.0,>=0.28.1; extra == \"gcp\" in /usr/local/lib/python3.6/dist-packages (from apache-beam[gcp]==2.13.0) (0.29.1)\n",
            "Requirement already satisfied: rsa>=3.1.4 in /usr/local/lib/python3.6/dist-packages (from oauth2client<4,>=2.0.1->apache-beam[gcp]==2.13.0) (4.0)\n",
            "Requirement already satisfied: pyasn1>=0.1.7 in /usr/local/lib/python3.6/dist-packages (from oauth2client<4,>=2.0.1->apache-beam[gcp]==2.13.0) (0.4.7)\n",
            "Requirement already satisfied: pyasn1-modules>=0.0.5 in /usr/local/lib/python3.6/dist-packages (from oauth2client<4,>=2.0.1->apache-beam[gcp]==2.13.0) (0.2.6)\n",
            "Requirement already satisfied: six>=1.6.1 in /usr/local/lib/python3.6/dist-packages (from oauth2client<4,>=2.0.1->apache-beam[gcp]==2.13.0) (1.12.0)\n",
            "Requirement already satisfied: requests>=2.7.0 in /usr/local/lib/python3.6/dist-packages (from hdfs<3.0.0,>=2.1.0->apache-beam[gcp]==2.13.0) (2.21.0)\n",
            "Requirement already satisfied: docopt in /usr/local/lib/python3.6/dist-packages (from hdfs<3.0.0,>=2.1.0->apache-beam[gcp]==2.13.0) (0.6.2)\n",
            "Requirement already satisfied: numpy>=1.14 in /usr/local/lib/python3.6/dist-packages (from pyarrow<0.14.0,>=0.11.1; python_version >= \"3.0\" or platform_system != \"Windows\"->apache-beam[gcp]==2.13.0) (1.16.5)\n",
            "Requirement already satisfied: pyparsing>=2.1.4 in /usr/local/lib/python3.6/dist-packages (from pydot<1.3,>=1.2.0->apache-beam[gcp]==2.13.0) (2.4.2)\n",
            "Requirement already satisfied: setuptools in /usr/local/lib/python3.6/dist-packages (from protobuf<4,>=3.5.0.post1->apache-beam[gcp]==2.13.0) (41.2.0)\n",
            "Requirement already satisfied: pbr>=0.11 in /usr/local/lib/python3.6/dist-packages (from mock<3.0.0,>=1.0.1->apache-beam[gcp]==2.13.0) (5.4.3)\n",
            "Requirement already satisfied: google-api-core[grpc]<2.0.0dev,>=1.6.0 in /usr/local/lib/python3.6/dist-packages (from google-cloud-bigtable<0.33.0,>=0.31.1; extra == \"gcp\"->apache-beam[gcp]==2.13.0) (1.14.2)\n",
            "Requirement already satisfied: grpc-google-iam-v1<0.12dev,>=0.11.4 in /usr/local/lib/python3.6/dist-packages (from google-cloud-bigtable<0.33.0,>=0.31.1; extra == \"gcp\"->apache-beam[gcp]==2.13.0) (0.11.4)\n",
            "Requirement already satisfied: google-resumable-media<0.5.0dev,>=0.2.1 in /usr/local/lib/python3.6/dist-packages (from google-cloud-bigquery<1.7.0,>=1.6.0; extra == \"gcp\"->apache-beam[gcp]==2.13.0) (0.4.1)\n",
            "Requirement already satisfied: fasteners>=0.14 in /usr/local/lib/python3.6/dist-packages (from google-apitools<0.5.29,>=0.5.28; extra == \"gcp\"->apache-beam[gcp]==2.13.0) (0.15)\n",
            "Requirement already satisfied: urllib3<1.25,>=1.21.1 in /usr/local/lib/python3.6/dist-packages (from requests>=2.7.0->hdfs<3.0.0,>=2.1.0->apache-beam[gcp]==2.13.0) (1.24.3)\n",
            "Requirement already satisfied: chardet<3.1.0,>=3.0.2 in /usr/local/lib/python3.6/dist-packages (from requests>=2.7.0->hdfs<3.0.0,>=2.1.0->apache-beam[gcp]==2.13.0) (3.0.4)\n",
            "Requirement already satisfied: certifi>=2017.4.17 in /usr/local/lib/python3.6/dist-packages (from requests>=2.7.0->hdfs<3.0.0,>=2.1.0->apache-beam[gcp]==2.13.0) (2019.9.11)\n",
            "Requirement already satisfied: idna<2.9,>=2.5 in /usr/local/lib/python3.6/dist-packages (from requests>=2.7.0->hdfs<3.0.0,>=2.1.0->apache-beam[gcp]==2.13.0) (2.8)\n",
            "Requirement already satisfied: google-auth<2.0dev,>=0.4.0 in /usr/local/lib/python3.6/dist-packages (from google-api-core[grpc]<2.0.0dev,>=1.6.0->google-cloud-bigtable<0.33.0,>=0.31.1; extra == \"gcp\"->apache-beam[gcp]==2.13.0) (1.4.2)\n",
            "Requirement already satisfied: googleapis-common-protos<2.0dev,>=1.6.0 in /usr/local/lib/python3.6/dist-packages (from google-api-core[grpc]<2.0.0dev,>=1.6.0->google-cloud-bigtable<0.33.0,>=0.31.1; extra == \"gcp\"->apache-beam[gcp]==2.13.0) (1.6.0)\n",
            "Requirement already satisfied: monotonic>=0.1 in /usr/local/lib/python3.6/dist-packages (from fasteners>=0.14->google-apitools<0.5.29,>=0.5.28; extra == \"gcp\"->apache-beam[gcp]==2.13.0) (1.5)\n"
          ],
          "name": "stdout"
        }
      ]
    },
    {
      "cell_type": "markdown",
      "metadata": {
        "id": "7ZwD6gZnd7wZ",
        "colab_type": "text"
      },
      "source": [
        "# <font color=\"red\"> ATENÇÃO!</font>\n",
        "\n",
        "Após instalar o beam no colab, pode ser necessário reiniciar o runtime"
      ]
    },
    {
      "cell_type": "code",
      "metadata": {
        "id": "WLeAtWU-AN30",
        "colab_type": "code",
        "colab": {
          "base_uri": "https://localhost:8080/",
          "height": 51
        },
        "outputId": "1d63a44a-0cc9-440f-9030-2e9fbd46adf6"
      },
      "source": [
        "#%pip install pydot==1.2.4"
      ],
      "execution_count": 2,
      "outputs": [
        {
          "output_type": "stream",
          "text": [
            "Requirement already satisfied: pydot==1.2.4 in /usr/local/lib/python3.6/dist-packages (1.2.4)\n",
            "Requirement already satisfied: pyparsing>=2.1.4 in /usr/local/lib/python3.6/dist-packages (from pydot==1.2.4) (2.4.2)\n"
          ],
          "name": "stdout"
        }
      ]
    },
    {
      "cell_type": "code",
      "metadata": {
        "id": "68JedqQG-jbe",
        "colab_type": "code",
        "outputId": "58c5779f-0c60-4d5f-b8dd-8b88f2e71dd6",
        "colab": {
          "base_uri": "https://localhost:8080/",
          "height": 88
        }
      },
      "source": [
        "import apache_beam as beam\n",
        "print(beam.__version__)"
      ],
      "execution_count": 3,
      "outputs": [
        {
          "output_type": "stream",
          "text": [
            "/usr/local/lib/python3.6/dist-packages/apache_beam/__init__.py:84: UserWarning: Running the Apache Beam SDK on Python 3 is not yet fully supported. You may encounter buggy behavior or missing features.\n",
            "  'Running the Apache Beam SDK on Python 3 is not yet fully supported. '\n"
          ],
          "name": "stderr"
        },
        {
          "output_type": "stream",
          "text": [
            "2.13.0\n"
          ],
          "name": "stdout"
        }
      ]
    },
    {
      "cell_type": "markdown",
      "metadata": {
        "id": "ttxUdtrlm4m6",
        "colab_type": "text"
      },
      "source": [
        "# Autenticação\n",
        "Primeiro precisamos autenticar nossa sessão do Colab no Google e definimos o ID do projeto"
      ]
    },
    {
      "cell_type": "code",
      "metadata": {
        "id": "9wgK4E7UmlR8",
        "colab_type": "code",
        "outputId": "c6f328cc-733a-43b6-f457-2aff3fbad755",
        "colab": {
          "base_uri": "https://localhost:8080/",
          "height": 34
        }
      },
      "source": [
        "from google.colab import auth\n",
        "auth.authenticate_user()\n",
        "print('Authenticated')"
      ],
      "execution_count": 4,
      "outputs": [
        {
          "output_type": "stream",
          "text": [
            "Authenticated\n"
          ],
          "name": "stdout"
        }
      ]
    },
    {
      "cell_type": "code",
      "metadata": {
        "id": "z9eurXWsgsXj",
        "colab_type": "code",
        "colab": {}
      },
      "source": [
        ""
      ],
      "execution_count": 0,
      "outputs": []
    },
    {
      "cell_type": "code",
      "metadata": {
        "id": "aiHcymktlWxC",
        "colab_type": "code",
        "cellView": "both",
        "colab": {}
      },
      "source": [
        "#Informe o id do projeto nesta linha:\n",
        "\n",
        "project_id = \"workshop-5ia-tensorflow-253922\" #@param {type:\"string\"}\n",
        "BUCKET = \"workshop-5ia-tensorflow\" #@param {type:\"string\"}\n",
        "REGION = \"us-east1\" #@param {type:\"string\"}"
      ],
      "execution_count": 0,
      "outputs": []
    },
    {
      "cell_type": "markdown",
      "metadata": {
        "id": "D7SXXClkL-3S",
        "colab_type": "text"
      },
      "source": [
        "# Client Big Query\n",
        "\n",
        "Como vamos buscar dados no bigquery, é necessário criar um cliente BG"
      ]
    },
    {
      "cell_type": "code",
      "metadata": {
        "id": "_MooAayGL-OK",
        "colab_type": "code",
        "colab": {}
      },
      "source": [
        "# Call BigQuery and examine in dataframe\n",
        "from google.cloud import bigquery\n",
        "\n",
        "bgclient = bigquery.Client(project=project_id)"
      ],
      "execution_count": 0,
      "outputs": []
    },
    {
      "cell_type": "markdown",
      "metadata": {
        "id": "0Cd5TcsWr7Ok",
        "colab_type": "text"
      },
      "source": [
        "Demais imports:"
      ]
    },
    {
      "cell_type": "code",
      "metadata": {
        "id": "QcW9RAL6j3_v",
        "colab_type": "code",
        "colab": {}
      },
      "source": [
        "import matplotlib.pyplot as plt\n",
        "import seaborn as sns, numpy as np\n",
        "import sklearn\n",
        "import datetime, os\n"
      ],
      "execution_count": 0,
      "outputs": []
    },
    {
      "cell_type": "markdown",
      "metadata": {
        "id": "CBtxvZtydI6R",
        "colab_type": "text"
      },
      "source": [
        "#Obtenção dos dados\n",
        "\n",
        "Vamos preparar a (mesma) query que fizemos na obtenção de dados do Pandas, porém agora vamos usar o Dataflow (que é o Beam) :-)"
      ]
    },
    {
      "cell_type": "code",
      "metadata": {
        "id": "DCS1iwsUHPuL",
        "colab_type": "code",
        "colab": {}
      },
      "source": [
        "query = \"\"\"\n",
        "SELECT\n",
        "  weight_pounds * 0.45359237 AS weight_kilos,\n",
        "  is_male,\n",
        "  mother_age,\n",
        "  mother_married,\n",
        "  plurality,\n",
        "  gestation_weeks,\n",
        "  ABS(FARM_FINGERPRINT(CONCAT(CAST(YEAR AS STRING), CAST(month AS STRING)))) AS hashmonth\n",
        "FROM\n",
        "  publicdata.samples.natality\n",
        "WHERE year > 2000\n",
        "AND is_male IS NOT NULL\n",
        "AND weight_pounds > 0\n",
        "AND mother_age > 0\n",
        "AND gestation_weeks > 0\n",
        "AND plurality > 0\n",
        "AND month > 0\n",
        "\"\"\""
      ],
      "execution_count": 0,
      "outputs": []
    },
    {
      "cell_type": "code",
      "metadata": {
        "id": "OApqG631Hz36",
        "colab_type": "code",
        "outputId": "61c9f28c-810e-4a82-bc85-4123f5ed3f5f",
        "colab": {
          "base_uri": "https://localhost:8080/",
          "height": 34
        }
      },
      "source": [
        "df = bgclient.query(query + \" LIMIT 100\").to_dataframe()\n",
        "df.shape"
      ],
      "execution_count": 9,
      "outputs": [
        {
          "output_type": "execute_result",
          "data": {
            "text/plain": [
              "(100, 7)"
            ]
          },
          "metadata": {
            "tags": []
          },
          "execution_count": 9
        }
      ]
    },
    {
      "cell_type": "code",
      "metadata": {
        "id": "1K6QvegbIEqq",
        "colab_type": "code",
        "outputId": "2f720980-3f29-4651-91e7-ffae71015808",
        "colab": {
          "base_uri": "https://localhost:8080/",
          "height": 204
        }
      },
      "source": [
        "df.head()"
      ],
      "execution_count": 10,
      "outputs": [
        {
          "output_type": "execute_result",
          "data": {
            "text/html": [
              "<div>\n",
              "<style scoped>\n",
              "    .dataframe tbody tr th:only-of-type {\n",
              "        vertical-align: middle;\n",
              "    }\n",
              "\n",
              "    .dataframe tbody tr th {\n",
              "        vertical-align: top;\n",
              "    }\n",
              "\n",
              "    .dataframe thead th {\n",
              "        text-align: right;\n",
              "    }\n",
              "</style>\n",
              "<table border=\"1\" class=\"dataframe\">\n",
              "  <thead>\n",
              "    <tr style=\"text-align: right;\">\n",
              "      <th></th>\n",
              "      <th>weight_kilos</th>\n",
              "      <th>is_male</th>\n",
              "      <th>mother_age</th>\n",
              "      <th>mother_married</th>\n",
              "      <th>plurality</th>\n",
              "      <th>gestation_weeks</th>\n",
              "      <th>hashmonth</th>\n",
              "    </tr>\n",
              "  </thead>\n",
              "  <tbody>\n",
              "    <tr>\n",
              "      <th>0</th>\n",
              "      <td>3.235</td>\n",
              "      <td>True</td>\n",
              "      <td>22</td>\n",
              "      <td>True</td>\n",
              "      <td>1</td>\n",
              "      <td>41</td>\n",
              "      <td>6392072535155213407</td>\n",
              "    </tr>\n",
              "    <tr>\n",
              "      <th>1</th>\n",
              "      <td>3.620</td>\n",
              "      <td>False</td>\n",
              "      <td>28</td>\n",
              "      <td>True</td>\n",
              "      <td>1</td>\n",
              "      <td>44</td>\n",
              "      <td>6691862025345277042</td>\n",
              "    </tr>\n",
              "    <tr>\n",
              "      <th>2</th>\n",
              "      <td>3.935</td>\n",
              "      <td>False</td>\n",
              "      <td>33</td>\n",
              "      <td>True</td>\n",
              "      <td>1</td>\n",
              "      <td>41</td>\n",
              "      <td>8904940584331855459</td>\n",
              "    </tr>\n",
              "    <tr>\n",
              "      <th>3</th>\n",
              "      <td>2.425</td>\n",
              "      <td>True</td>\n",
              "      <td>25</td>\n",
              "      <td>True</td>\n",
              "      <td>1</td>\n",
              "      <td>35</td>\n",
              "      <td>7170969733900686954</td>\n",
              "    </tr>\n",
              "    <tr>\n",
              "      <th>4</th>\n",
              "      <td>3.175</td>\n",
              "      <td>False</td>\n",
              "      <td>29</td>\n",
              "      <td>True</td>\n",
              "      <td>1</td>\n",
              "      <td>39</td>\n",
              "      <td>5896567601480310696</td>\n",
              "    </tr>\n",
              "  </tbody>\n",
              "</table>\n",
              "</div>"
            ],
            "text/plain": [
              "   weight_kilos  is_male  ...  gestation_weeks            hashmonth\n",
              "0         3.235     True  ...               41  6392072535155213407\n",
              "1         3.620    False  ...               44  6691862025345277042\n",
              "2         3.935    False  ...               41  8904940584331855459\n",
              "3         2.425     True  ...               35  7170969733900686954\n",
              "4         3.175    False  ...               39  5896567601480310696\n",
              "\n",
              "[5 rows x 7 columns]"
            ]
          },
          "metadata": {
            "tags": []
          },
          "execution_count": 10
        }
      ]
    },
    {
      "cell_type": "markdown",
      "metadata": {
        "id": "6uBCPKuDI8CD",
        "colab_type": "text"
      },
      "source": [
        "# Pré-Processamento"
      ]
    },
    {
      "cell_type": "markdown",
      "metadata": {
        "id": "hktykDFbHVVL",
        "colab_type": "text"
      },
      "source": [
        "Cria função que converte linha a linha para uma linha CSV (será usada no beam.FlatMap)"
      ]
    },
    {
      "cell_type": "code",
      "metadata": {
        "id": "juVSJKab8B3t",
        "colab_type": "code",
        "colab": {}
      },
      "source": [
        "def to_csv(rowdict):\n",
        "  # Pull columns from BQ and create a line\n",
        "  import hashlib\n",
        "  import copy\n",
        "  CSV_COLUMNS = ['weight_kilos', 'is_male', 'mother_age', 'mother_married', 'plurality', 'gestation_weeks'] #Observe que removi a coluna hashmonth\n",
        "\n",
        "  data = ','.join( [str(rowdict[k]) if k in rowdict else 'None' for k in CSV_COLUMNS])\n",
        "  key = hashlib.sha224(data.encode('utf-8')).hexdigest()  # e então, adicionei uma nova hash agora por observação!\n",
        "  yield str('{},{}'.format(data, key))"
      ],
      "execution_count": 0,
      "outputs": []
    },
    {
      "cell_type": "code",
      "metadata": {
        "id": "iE8H89tG9fsX",
        "colab_type": "code",
        "colab": {}
      },
      "source": [
        "def preprocess(in_test_mode):\n",
        "  import shutil, os, subprocess\n",
        "  job_name = 'preprocess-curso-gcp-ml-tensorflow-beam' + '-' + datetime.datetime.now().strftime('%y%m%d-%H%M%S')\n",
        "\n",
        "  if in_test_mode:\n",
        "      print('Launching local job ... hang on')\n",
        "      OUTPUT_DIR = './preproc'\n",
        "      shutil.rmtree(OUTPUT_DIR, ignore_errors=True)\n",
        "      os.makedirs(OUTPUT_DIR)\n",
        "  else:\n",
        "      print('Launching Dataflow job {} ... hang on'.format(job_name))\n",
        "      OUTPUT_DIR = 'gs://{0}/preproc/'.format(BUCKET)\n",
        "      try:\n",
        "        subprocess.check_call('gsutil -m rm -r {}'.format(OUTPUT_DIR).split())\n",
        "      except:\n",
        "        pass\n",
        "\n",
        "  options = {\n",
        "      'staging_location': os.path.join(OUTPUT_DIR, 'tmp', 'staging'),\n",
        "      'temp_location': os.path.join(OUTPUT_DIR, 'tmp'),\n",
        "      'job_name': job_name,\n",
        "      'project': project_id,\n",
        "      'region': REGION,\n",
        "      'teardown_policy': 'TEARDOWN_ALWAYS',\n",
        "      'no_save_main_session': True,\n",
        "      'max_num_workers': 6\n",
        "  }\n",
        "  opts = beam.pipeline.PipelineOptions(flags = [], **options)\n",
        "  if in_test_mode:\n",
        "      RUNNER = 'DirectRunner'\n",
        "  else:\n",
        "      RUNNER = 'DataflowRunner'\n",
        "  p = beam.Pipeline(RUNNER, options = opts)\n",
        "  query = \"\"\"\n",
        "SELECT\n",
        "  weight_pounds * 0.45359237 AS weight_kilos,\n",
        "  is_male,\n",
        "  mother_age,\n",
        "  mother_married,\n",
        "  plurality,\n",
        "  gestation_weeks,\n",
        "  ABS(FARM_FINGERPRINT(CONCAT(CAST(YEAR AS STRING), CAST(month AS STRING)))) AS hashmonth\n",
        "FROM\n",
        "  publicdata.samples.natality\n",
        "WHERE year > 2000\n",
        "AND is_male IS NOT NULL\n",
        "AND weight_pounds > 0\n",
        "AND mother_age > 0\n",
        "AND gestation_weeks > 0\n",
        "AND plurality > 0\n",
        "AND month > 0\n",
        "    \"\"\"\n",
        "\n",
        "  if in_test_mode:\n",
        "    query = query + ' LIMIT 100' \n",
        "\n",
        "  for step in ['train', 'eval']:\n",
        "    if step == 'train':\n",
        "      selquery = 'SELECT * FROM ({}) WHERE MOD(ABS(hashmonth),4) < 3'.format(query)\n",
        "    else:\n",
        "      selquery = 'SELECT * FROM ({}) WHERE MOD(ABS(hashmonth),4) = 3'.format(query)\n",
        "\n",
        "    (p \n",
        "     | '{}_read'.format(step) >> beam.io.Read(beam.io.BigQuerySource(query = selquery, use_standard_sql = True))\n",
        "     | '{}_csv'.format(step) >> beam.FlatMap(to_csv)\n",
        "     | '{}_out'.format(step) >> beam.io.Write(beam.io.WriteToText(os.path.join(OUTPUT_DIR, '{}.csv'.format(step))))\n",
        "    )\n",
        "\n",
        "  job = p.run()\n",
        "  if in_test_mode:\n",
        "    job.wait_until_finish()\n",
        "    print(\"Done!\")"
      ],
      "execution_count": 0,
      "outputs": []
    },
    {
      "cell_type": "markdown",
      "metadata": {
        "id": "O6VxBP_DHkhD",
        "colab_type": "text"
      },
      "source": [
        "Roda o pré-processamento em teste!"
      ]
    },
    {
      "cell_type": "code",
      "metadata": {
        "id": "FHt4tdH1Hh9B",
        "colab_type": "code",
        "colab": {
          "base_uri": "https://localhost:8080/",
          "height": 105
        },
        "outputId": "0907b51b-57e1-4f29-d7a9-21bb14f3befe"
      },
      "source": [
        "preprocess(in_test_mode = True)"
      ],
      "execution_count": 16,
      "outputs": [
        {
          "output_type": "stream",
          "text": [
            "Launching local job ... hang on\n"
          ],
          "name": "stdout"
        },
        {
          "output_type": "stream",
          "text": [
            "WARNING:root:Dataset workshop-5ia-tensorflow-253922:temp_dataset_ca198e0cc98746568e348aadc9fcd859 does not exist so we will create it as temporary with location=US\n",
            "WARNING:root:Dataset workshop-5ia-tensorflow-253922:temp_dataset_4c7fadb07b9e486280fe2af911bfad67 does not exist so we will create it as temporary with location=US\n"
          ],
          "name": "stderr"
        },
        {
          "output_type": "stream",
          "text": [
            "Done!\n"
          ],
          "name": "stdout"
        }
      ]
    },
    {
      "cell_type": "code",
      "metadata": {
        "id": "ezwzi62m-y2m",
        "colab_type": "code",
        "colab": {
          "base_uri": "https://localhost:8080/",
          "height": 34
        },
        "outputId": "3f86ff81-01bd-4a4a-a5d5-0c6d0190f461"
      },
      "source": [
        "! ls ./preproc"
      ],
      "execution_count": 17,
      "outputs": [
        {
          "output_type": "stream",
          "text": [
            "eval.csv-00000-of-00001  train.csv-00000-of-00001\n"
          ],
          "name": "stdout"
        }
      ]
    },
    {
      "cell_type": "code",
      "metadata": {
        "id": "2kD3Gyng_kHn",
        "colab_type": "code",
        "colab": {
          "base_uri": "https://localhost:8080/",
          "height": 1000
        },
        "outputId": "6974c2c2-1f42-4465-8ba9-36d35042100e"
      },
      "source": [
        "!cat ./preproc/train.csv-00000-of-00001"
      ],
      "execution_count": 18,
      "outputs": [
        {
          "output_type": "stream",
          "text": [
            "3.0329999974565545,False,35,False,1,35,89318d9180ff1a80b76211c563f023eee7c84449afb07de56c6370c3\n",
            "3.203999997313156,False,28,True,1,35,39cf167acd89157314e17d61becef5e80f5055f8c2eb78884a7213a2\n",
            "2.777999997670395,False,37,True,1,36,ef0dbfbc1e354e2f8f7b84a838c992324a06bc18443b411b8bc6d0a0\n",
            "3.1229999973810814,False,34,True,1,37,adb7835910f0ebb029a6be1fb6afe2a454bfb92020563b55104b92cd\n",
            "2.8349999976225955,False,30,True,1,37,7a761f822eadce4a197cadfe7563a5baffc985ada049b08b2a5791e8\n",
            "3.401999997147115,False,17,True,1,37,f38d03655165b907b87cda22592a97942f1d37bff67448c5555d31e8\n",
            "3.685999996908955,False,25,True,1,37,750958929ce53851c77033cf451a9c46910835fc193066971b446bf3\n",
            "2.8349999976225955,False,37,True,1,38,0cda180ad7cd1133ba79a2b1b18f3165f7279045d2e3ae1c985937e3\n",
            "3.174999997337475,False,34,True,1,38,65ffe521ac60885f96b2f3f260094ee798deeba8f66c3d97412b1b83\n",
            "2.6369999977886365,False,33,True,1,38,ab2b8e637f1753ea2d9eec6d3c4df8f9990503ecc0f4fcae6bf29fa1\n",
            "3.0219999974657794,False,19,False,1,38,0802302084d45142bfa14b217b367d51d90227312436296f3ba8b0c6\n",
            "2.9499999975261577,False,27,False,1,38,947cf5fd7f8220933847a0a02074feb003e26c37f4fa711bd340275e\n",
            "3.1469999973609557,False,28,True,1,39,0df4d935b492fe4007085e23f15a75d716a25da94fdf2006600078b4\n",
            "3.8269999967907133,False,30,True,1,39,1f5fd8b9d6f2f84b79122736e00a0d3bc31055097d71dd2559cc372e\n",
            "3.8949999967336897,False,23,True,1,39,5a1e22fe1591f88c4d0c3821a9602eb421fcf380df4c28904363c22b\n",
            "3.2889999972418758,False,21,False,1,39,94afc1f57e11f60c947d203b5db8fbf2397495ec9da621b16b1728ad\n",
            "3.3589999971831745,False,22,True,1,39,72951d0cfb43472e87348c45f443c69ff765a7a46f778b4f2d046499\n",
            "3.259999997266195,False,31,True,1,39,834c53079ccb78a56692c5a811a91f9e4eee4874e486723e9be071de\n",
            "3.599999996981074,False,33,True,1,39,ac04b227ba15eca5032d1f696a86d624fa1e49728c88dd08dcd23ebc\n",
            "3.394999997152985,False,27,True,1,39,10752ca3df4b223055a8f2ce4286d0c1edc8c3744aaa6415c539ebb4\n",
            "3.911999996719434,False,34,True,1,39,f090ba1cc0ff29e4bc7bfa3fac8e40034b4af603e5d2350099648db7\n",
            "3.3739999971705954,False,33,False,1,39,a0a9fad10da37b6e1cfca9d8143d445d66a72527e8a3a5435bdfa12e\n",
            "3.4589999970993155,False,29,True,1,40,63714b15cacfe186f0d1d2a940cf7585ab69657ec67386183d35c753\n",
            "3.1499999973584396,False,31,True,1,40,5a783d480f4f9ea22b158c9ec62fb9ebf30702691ad7a3420f012393\n",
            "3.0049999974800357,False,35,True,1,40,35de2c7e645a607e7139fd86752473fc2740d96c3502194c94354b9d\n",
            "2.9199999975513156,False,24,False,1,40,3cc2f33121b94cc16d4b0561c7aed2690e0a958be3828300d1edb092\n",
            "3.370999997173111,False,18,False,1,40,9f64e15950215aebad33c6727930d5f018dcc706f5e2dd598fbd7cdf\n",
            "3.798999996814194,False,32,False,1,40,f3e5a3d94be34db8a18d8c2ce238bf3a9b39238abb773794029ed664\n",
            "3.174999997337475,False,37,True,1,40,58a7be2d0faacf300872ae31990a9d6dc56138726ae674ac1b1c660d\n",
            "3.259999997266195,False,23,False,1,40,449d9f6697f78646114c5df050c2d5584e15526602811e8f5cc9b5c9\n",
            "3.741999996861994,False,21,True,1,40,5beb552cfb2a2a4e98d7d0cfc8d911f48c1a7c5ae3e6197a5a1b2cd7\n",
            "3.145999997361794,False,32,False,1,41,01ee39a26a88d2214ead264700cb7c54c1cdc0af4ca991e5cd517450\n",
            "3.2319999972896754,False,26,False,1,41,9c5769ab48a2a4fc158e54488c558660a2e8297eda6ef6599a77e840\n",
            "3.3449999971949147,False,28,False,1,42,655ebfb1ddf50edb5ddbfd66889ea178c80945643785a27683fe99ed\n",
            "3.6399999969475307,False,23,True,1,43,3e5998a54e1d3e2a2fdafffacbf218b7fd53f8971c5ffb4d0e85ff63\n",
            "3.4589999970993155,True,20,False,1,34,8cebfe40dec6f55bf18240269ff85c10042507f19297a97fd7e28b77\n",
            "2.551999997859917,True,21,False,1,34,2e76c190c32903531518d62f58c85a45275593b1238d8b2d9bf0edd1\n",
            "3.3259999972108476,True,38,True,1,36,1f20a682e2ecda92870ed5264b813bba516b7c5fd3b80fc177f8f327\n",
            "3.543999997028035,True,34,True,1,37,021c3be63c43f7186d5160f7bdceb4349b9a5ad8a588e1084090b24d\n",
            "2.7599999976854903,True,18,False,1,37,5cab43ab5b95b188f58509bd241c708bd2f0e2c9894edcd73dfa2de4\n",
            "3.1599999973500537,True,16,True,1,37,50efe62104492b18fe49868d326417bdf4c4abc13841e9c80c911997\n",
            "2.847999997611694,True,29,True,1,37,70a3a08233d3ab4ce27ebdaa35df31a1afdae4c584f6329d31f0e831\n",
            "3.401999997147115,True,30,True,1,38,007037d9419f97d2b390d84061b901f8972bed42c7c35c219c2906a2\n",
            "3.5449999970271966,True,28,True,1,38,0b1fb93b9802749a257d93936cfa1cb827989bbb2b50a1e004ccc588\n",
            "3.599999996981074,True,27,True,1,38,8c77c3ead6360d0836b6bcf2bdeccb8293ff20ab041efa4d3e074ef3\n",
            "3.1899999973248963,True,36,True,1,39,0be517f1dab707d902b2603f67f830677eb1f5ae0a7c2cbdc0bb60fe\n",
            "3.1469999973609557,True,47,True,1,39,310bcc4c96c3fe0ba4e1e47f24620f051ab96e4d08c4c95add40be13\n",
            "3.5719999970045544,True,27,True,1,39,2c90a4bfee91466283dba7dee13d48aa93a4ec823460f338729f561a\n",
            "3.741999996861994,True,24,False,1,39,25a4364ccde4f703057ff0a379a9c3a960e89a63c7eb213ff9e4ffe5\n",
            "3.73899999686451,True,32,True,1,39,6a9876206bc9c076abb2bf097c6d965463f60cee3b5510b3dbe7c014\n",
            "3.543999997028035,True,32,True,1,40,94fb2ed6f87a0c7ba3eaf8781cfc748330c587db4cde6635a2f9ce59\n",
            "3.401999997147115,True,20,True,1,40,01c14db46b405931a92523733d6e8df2f66b315087cae6125869717c\n",
            "3.401999997147115,True,16,False,1,40,9b12bf0f8e09f5787667805f69bc68ebe5a527a3b7fb2c8134231a02\n",
            "3.9729999966682796,True,20,False,1,40,bc6bc37404be4836945ffd17ddc83e76a146bd218ba9cdae2246fc0f\n",
            "3.797999996815033,True,33,True,1,40,2e9db77d5ff1a0c92accefafed9bdbf1317ec6956e6b74e63692d9a3\n",
            "4.2519999964343125,True,34,True,1,40,cb5b60975bc67b71c5c233ee4faabd288cca0b99080ccfd9664f480f\n",
            "3.203999997313156,True,35,True,1,40,24b87d878a37fc8d753c6d2fe784b970cef0a5750449ba6263874e1a\n",
            "3.3739999971705954,True,20,False,1,41,54fb557df61829559c0a4666bccae17f365308785f9b013b81eb2f47\n",
            "3.599999996981074,True,25,True,1,41,49229f4e9e18253b11745448c455da6d04244cf45accbf2d449dfd2f\n",
            "3.3549999971865287,True,23,True,1,41,76d125cc95b864b33d8314694f67bd53b53fdf8946207dde475e77b4\n",
            "4.055999996598676,True,28,True,1,41,57e48eff5f6e5957003fa536a20e65ab478af9f891bf5db967bb1b13\n",
            "3.6289999969567543,True,29,True,1,41,f7c8037186ed93e4aa1835230042f013b9405acc9b3127f1780b2a3b\n",
            "3.3449999971949147,True,32,True,1,41,0e4d19933c4701fcf5d7fb6a105625a303129ef51c58abdc4ee7800b\n",
            "3.798999996814194,True,32,True,1,41,07cc40c2561c0ef48627b9f02f84496429e033e44465bf4351c5cf6b\n",
            "3.5719999970045544,True,18,False,1,41,21118362e0243a47ca36f2b8405cd6757f0c804625ec5697392595b1\n",
            "4.5359999961961535,True,26,True,1,43,768085ef753a62809fcda0c80f99e747bb6d43c19afa91aed1574ac6\n",
            "3.0899999974087553,True,22,True,1,43,6892a8496ba79a9ec8166a04b20aea131689ed3cc1b1fd0a422bcece\n"
          ],
          "name": "stdout"
        }
      ]
    },
    {
      "cell_type": "markdown",
      "metadata": {
        "id": "MH8nf2JcHsSk",
        "colab_type": "text"
      },
      "source": [
        "Roda o pré-processamento para valer!\n",
        "Obs.: Anote o nome e acompanhe no painel da GCP"
      ]
    },
    {
      "cell_type": "code",
      "metadata": {
        "id": "IFHmxOVMofRd",
        "colab_type": "code",
        "colab": {}
      },
      "source": [
        ""
      ],
      "execution_count": 0,
      "outputs": []
    },
    {
      "cell_type": "code",
      "metadata": {
        "id": "nqe7DFSZ_2QG",
        "colab_type": "code",
        "colab": {
          "base_uri": "https://localhost:8080/",
          "height": 34
        },
        "outputId": "d3c974f7-88eb-4cc5-e0e3-79a794d9bca1"
      },
      "source": [
        "preprocess(in_test_mode = False)"
      ],
      "execution_count": 21,
      "outputs": [
        {
          "output_type": "stream",
          "text": [
            "Launching Dataflow job preprocess-curso-gcp-ml-tensorflow-beam-191003-232544 ... hang on\n"
          ],
          "name": "stdout"
        }
      ]
    },
    {
      "cell_type": "markdown",
      "metadata": {
        "id": "GcL6PDoSFLTi",
        "colab_type": "text"
      },
      "source": [
        "#Copiar para outro Storage (Bucket)"
      ]
    },
    {
      "cell_type": "markdown",
      "metadata": {
        "id": "c4yCFa9aG55t",
        "colab_type": "text"
      },
      "source": [
        "Opcional para quem quiser os dados já processados"
      ]
    },
    {
      "cell_type": "code",
      "metadata": {
        "id": "h_UQ7nQ3_2jX",
        "colab_type": "code",
        "colab": {}
      },
      "source": [
        "#!gsutil -m cp -r gs://curso-gcp-ml-tensorflow-beam/preproc gs://<teu bucket>/preproc"
      ],
      "execution_count": 0,
      "outputs": []
    },
    {
      "cell_type": "code",
      "metadata": {
        "id": "i13TW8AoFwLl",
        "colab_type": "code",
        "colab": {}
      },
      "source": [
        ""
      ],
      "execution_count": 0,
      "outputs": []
    }
  ]
}